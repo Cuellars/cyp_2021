{
  "nbformat": 4,
  "nbformat_minor": 0,
  "metadata": {
    "colab": {
      "name": "12enero-CyP.ipynb",
      "provenance": [],
      "authorship_tag": "ABX9TyNGiDf2uPtDknrEJ83p72cK",
      "include_colab_link": true
    },
    "kernelspec": {
      "name": "python3",
      "display_name": "Python 3"
    }
  },
  "cells": [
    {
      "cell_type": "markdown",
      "metadata": {
        "id": "view-in-github",
        "colab_type": "text"
      },
      "source": [
        "<a href=\"https://colab.research.google.com/github/Cuellars/cyp_2021/blob/main/12enero_CyP.ipynb\" target=\"_parent\"><img src=\"https://colab.research.google.com/assets/colab-badge.svg\" alt=\"Open In Colab\"/></a>"
      ]
    },
    {
      "cell_type": "code",
      "metadata": {
        "id": "uikoZlDllyI6"
      },
      "source": [
        ""
      ],
      "execution_count": null,
      "outputs": []
    },
    {
      "cell_type": "markdown",
      "metadata": {
        "id": "gXSdGaQgqKWe"
      },
      "source": [
        "#introduccion a phyton\r\n",
        "- Creado en los 90s por Guido Van R.\r\n",
        "- En el 2000 phyton mejora y tienen nuevas caracteristicas.\r\n",
        "- en el 2020 deja de ser la version oficial phyton 2.7 y solo se le dara soporte a phyton 3 en adelante.\r\n",
        "\r\n",
        "## Caracteristicas de phyton\r\n",
        "1. Lenguaje de proposito general.\r\n",
        "2. Interpretado y no-compilado.\r\n",
        "3. Tipos de  datos dinamicos.(numericos, cadenas, cool, entre otros)\r\n",
        "4. Multiplataformas \r\n",
        "5. Lenguaje mulyi-paradigma. (imperativa, POO y funcional)\r\n",
        "6. Codigo es estructurado por identificacin.\r\n",
        "\r\n",
        "```\r\n",
        "if a > 10:\r\n",
        " print(\"hola\")\r\n",
        "print(\"hola dos\")\r\n",
        "````\r\n",
        "\r\n",
        "## Principios Zen de Phyton \r\n",
        "Son caracteristicas que guian el diseño del lenguaje de programacion de Phyton \r\n",
        "\r\n",
        "\r\n",
        "\r\n",
        "\r\n"
      ]
    },
    {
      "cell_type": "code",
      "metadata": {
        "colab": {
          "base_uri": "https://localhost:8080/"
        },
        "id": "FREj_aScvDaf",
        "outputId": "57d0c805-555f-4932-eed2-949efec4c375"
      },
      "source": [
        "#primer programa de phyton\r\n",
        "nombre = \"Diego\"\r\n",
        "edad = 18\r\n",
        "print (\"Hola\" , nombre , edad)"
      ],
      "execution_count": 1,
      "outputs": [
        {
          "output_type": "stream",
          "text": [
            "Hola Diego 18\n"
          ],
          "name": "stdout"
        }
      ]
    },
    {
      "cell_type": "markdown",
      "metadata": {
        "id": "LK6ZHBnBvrAe"
      },
      "source": [
        "# la funcion print ()\r\n",
        "\r\n",
        "es una de las funciones mas empleadas en programacion y busca enviar datos a la salida estandar (monitor)\r\n",
        "\r\n",
        "#Formas de uso\r\n",
        "1. con comas\r\n",
        "1. con signos +\r\n",
        "1.  .formas()\r\n",
        "1. el operador f\"   \"\r\n",
        "\r\n",
        "## con comas\r\n",
        "Concatenar los argumentos enviados a print y les agrega espacio.\r\n",
        "\r\n",
        "## con signos +\r\n",
        "Concatna los valores sin espacio y sin hacer conversion de tipos.\r\n",
        "\r\n",
        "##con la funcion format()\r\n",
        "permite darle formato a la salida de la impresion de variables. Emplea la funcion format de el tipo de dato String.\r\n",
        "```\r\n",
        "\"Cadena {} a {} forma{}tear \".format (v1,v2,v3)\r\n",
        "````\r\n",
        "Emplea como condiciones para sustituir valores los signos {}.\r\n",
        "\r\n",
        "print(f\" adadasd {var} asdsad {var2} asdsad {varn}\")\r\n"
      ]
    },
    {
      "cell_type": "code",
      "metadata": {
        "colab": {
          "base_uri": "https://localhost:8080/"
        },
        "id": "RyV_92nzwVPZ",
        "outputId": "a500d489-5a77-496b-9b9e-b27ed89c2072"
      },
      "source": [
        "print(\"Hola\", nombre , edad)\r\n",
        "print(\"Hola \" + nombre + \" \" +str(edad))\r\n",
        "#nombre: Diego, con una edad de: 18 años.\r\n",
        "print(\"Nombre:\", nombre, \"Con una edad de: \" , edad , \"años\")\r\n",
        "print(\"Nombre: \" + nombre + \" Con una edad de: \" + str(edad) + \" años \")\r\n",
        "# con format()\r\n",
        "print(\"nombre: {} con una edad  de: {} años.\" .format(nombre,edad))\r\n",
        "#con el operdador f\"\"\r\n",
        "print(f\"nombre: {nombre} con una edad de: {edad} años.\")\r\n"
      ],
      "execution_count": 6,
      "outputs": [
        {
          "output_type": "stream",
          "text": [
            "Hola Diego 18\n",
            "Hola Diego 18\n",
            "Nombre: Diego Con una edad de:  18 años\n",
            "Nombre: Diego Con una edad de: 18 años \n",
            "nombre: Diego con una edad  de: 18 años.\n",
            "nombre: Diego con una edad de: 18 años.\n"
          ],
          "name": "stdout"
        }
      ]
    },
    {
      "cell_type": "markdown",
      "metadata": {
        "id": "wxqt9wF72KJW"
      },
      "source": [
        "#Funcion print() y las caracteristicas de escape.\r\n",
        "```\r\n",
        "\"\r\n",
        "````\r\n",
        "-  \\n salto de linea \r\n",
        "- \\t tabulador\r\n",
        "- \\ imprimir la diagonal\r\n",
        "- \"y\"\r\n",
        "- \\uxxxx\r\n",
        "- \\uxxxxx"
      ]
    },
    {
      "cell_type": "code",
      "metadata": {
        "colab": {
          "base_uri": "https://localhost:8080/"
        },
        "id": "_dxA9Zwx2d0k",
        "outputId": "2043c160-a20a-4333-94a5-05d933bd9e0b"
      },
      "source": [
        "print(' \" ')\r\n",
        "print(\"\\\"\")\r\n",
        "print(\"Nombree Diego\\n\\tcon una edad \\\\de: 18 años.\")\r\n",
        "#Caracteriticas unicode\r\n",
        "print(\"Hola \\u6666\")"
      ],
      "execution_count": 11,
      "outputs": [
        {
          "output_type": "stream",
          "text": [
            " \" \n",
            "\"\n",
            "Nombree Diego\n",
            "\tcon una edad \\de: 18 años.\n",
            "Hola 晦\n"
          ],
          "name": "stdout"
        }
      ]
    },
    {
      "cell_type": "markdown",
      "metadata": {
        "id": "33UCcpa58DX9"
      },
      "source": [
        "#print y salto de linea en el argumento \r\n",
        "\r\n",
        "print([lista de variables], end=\"\\n\")\r\n"
      ]
    },
    {
      "cell_type": "code",
      "metadata": {
        "colab": {
          "base_uri": "https://localhost:8080/"
        },
        "id": "KWkGmb058ljv",
        "outputId": "cc8f057a-1563-46a5-e61d-6c2eec6eb922"
      },
      "source": [
        "print(\"Hola \" , end=\"\\u12CD\")\r\n",
        "print(\"Mundo \" , end=\"+++++\")\r\n",
        "print(\"Fin \" , end=\"\\n\")\r\n"
      ],
      "execution_count": 14,
      "outputs": [
        {
          "output_type": "stream",
          "text": [
            "Hola ውMundo +++++Fin \n"
          ],
          "name": "stdout"
        }
      ]
    },
    {
      "cell_type": "markdown",
      "metadata": {
        "id": "WSAH88Uw-Cp3"
      },
      "source": [
        "# Comentaris en phyton \r\n",
        "un comentario en programacion, es un texto especial que es ignorado por el interprete o compilador (segun sea el caso) y es empleado para que el programador documente sus algoritmos.\r\n",
        "\r\n",
        "Existen de dos tipos: de linea simple y de multiple linea.\r\n",
        "\r\n",
        "En Python.\r\n",
        "- linea simple emplea #\r\n",
        "- linea multimple"
      ]
    },
    {
      "cell_type": "code",
      "metadata": {
        "colab": {
          "base_uri": "https://localhost:8080/"
        },
        "id": "caMBLBL9_rqZ",
        "outputId": "71df44ee-d941-44c7-902c-ddddf3ba9d00"
      },
      "source": [
        "print(\"Hola\")\r\n",
        "# print (\"Hola\")\r\n",
        "# cualquier cosa \r\n",
        "print(\"Hola\")\r\n",
        "print(\"Hola\") # esta liínea imprime hola\r\n",
        "print(\"Hola\")\r\n",
        "print(\"Hola\")\r\n",
        "\"\"\"\r\n",
        "esto es\r\n",
        "un comentario de múltiple lunea. Ideal\r\n",
        "para cuando se desea explicar algo a fondo que requiera mayor detales.\r\n",
        "\r\n",
        "\"\"\"\r\n",
        "\r\n",
        "print(\"Hola\")\r\n",
        "print(\"Hola\")\r\n",
        "print(\"Hola\")\r\n",
        "print(\"Hola\")"
      ],
      "execution_count": 15,
      "outputs": [
        {
          "output_type": "stream",
          "text": [
            "Hola\n",
            "Hola\n",
            "Hola\n",
            "Hola\n",
            "Hola\n",
            "Hola\n",
            "Hola\n",
            "Hola\n",
            "Hola\n"
          ],
          "name": "stdout"
        }
      ]
    }
  ]
}