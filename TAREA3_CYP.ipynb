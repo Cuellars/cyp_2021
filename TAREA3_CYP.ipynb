{
  "nbformat": 4,
  "nbformat_minor": 0,
  "metadata": {
    "colab": {
      "name": "TAREA3-CYP.ipynb",
      "provenance": [],
      "authorship_tag": "ABX9TyOdNAdDJ/trfSmLZ7LITkvT",
      "include_colab_link": true
    },
    "kernelspec": {
      "name": "python3",
      "display_name": "Python 3"
    }
  },
  "cells": [
    {
      "cell_type": "markdown",
      "metadata": {
        "id": "view-in-github",
        "colab_type": "text"
      },
      "source": [
        "<a href=\"https://colab.research.google.com/github/Cuellars/cyp_2021/blob/main/TAREA3_CYP.ipynb\" target=\"_parent\"><img src=\"https://colab.research.google.com/assets/colab-badge.svg\" alt=\"Open In Colab\"/></a>"
      ]
    },
    {
      "cell_type": "code",
      "metadata": {
        "colab": {
          "base_uri": "https://localhost:8080/"
        },
        "id": "Xv0AYmyF-bLi",
        "outputId": "1dd01b68-5654-4a47-cf0d-d28bda4f6638"
      },
      "source": [
        "#Problema1.1\n",
        "\n",
        "PREPO=0\n",
        "PAGO=0\n",
        "DEVO=0\n",
        "\n",
        "PREPO = float (input(\"dame el primer dato: \"))\n",
        "PAGO = float (input(\"dame el segundo dato: \" ))\n",
        "\n",
        "DEVO = PAGO-PREPO\n",
        "print (DEVO)"
      ],
      "execution_count": 3,
      "outputs": [
        {
          "output_type": "stream",
          "text": [
            "dame el primer dato: 86.25\n",
            "dame el segundo dato: 100\n",
            "13.75\n"
          ],
          "name": "stdout"
        }
      ]
    },
    {
      "cell_type": "code",
      "metadata": {
        "colab": {
          "base_uri": "https://localhost:8080/"
        },
        "id": "U-2N4SBhCI9Q",
        "outputId": "a2da11e9-4c9a-4291-d453-b613c17f6445"
      },
      "source": [
        "#problema1.2\n",
        "\n",
        "BASE=0\n",
        "ALTURA=0\n",
        "SUP=0\n",
        "\n",
        "BASE = float(input(\"la base es:\"))\n",
        "ALTURA = float(input(\"la altura: \"))\n",
        "\n",
        "SUP= (BASE*ALTURA)/2\n",
        "\n",
        "print (SUP)"
      ],
      "execution_count": 1,
      "outputs": [
        {
          "output_type": "stream",
          "text": [
            "la base es:8.50\n",
            "la altura: 7.20\n",
            "30.6\n"
          ],
          "name": "stdout"
        }
      ]
    },
    {
      "cell_type": "code",
      "metadata": {
        "colab": {
          "base_uri": "https://localhost:8080/"
        },
        "id": "l45KS5Q-FQuI",
        "outputId": "22caa11f-1008-46cf-d0ee-01578d1af69e"
      },
      "source": [
        "#ejercicio1.3\n",
        "NOM=0\n",
        "PES=0\n",
        "LON=0\n",
        "PERSKIL=0\n",
        "LONMET=0\n",
        "\n",
        "NOM= (input(\"Como se llama el dinosaurio? \"))\n",
        "PES= float(input(\"Cuanto pesa el dinosaurio en toneladas? \"))\n",
        "LON= float(input(\"Cuanto mide el dinosaurio en pies? \"))\n",
        "PERSKIL= (PES*1000)\n",
        "LONMET= (LON*0.3047)\n",
        "\n",
        "print(f\"Se llama {NOM}, pesa {PERSKIL} en kilogramos y si alutura es de {LONMET} mestros\" )"
      ],
      "execution_count": 3,
      "outputs": [
        {
          "output_type": "stream",
          "text": [
            "Como se llama el dinosaurio? DIPLOJOCUS\n",
            "Cuanto pesa el dinosaurio en toneladas? 15\n",
            "Cuanto mide el dinosaurio en pies? 90\n",
            "Se llama DIPLOJOCUS, pesa 15000.0 en kilogramos y si alutura es de 27.423000000000002 mestros\n"
          ],
          "name": "stdout"
        }
      ]
    },
    {
      "cell_type": "code",
      "metadata": {
        "colab": {
          "base_uri": "https://localhost:8080/"
        },
        "id": "6F5WKEeqJnop",
        "outputId": "9f29f4b3-bfac-4ed3-da49-03519d78f225"
      },
      "source": [
        "#ejercicio1.4\n",
        "\n",
        "GAL=0\n",
        "TOTAL=0\n",
        "\n",
        "GAL= float(input(\"Cuantos galones? \"))\n",
        "TOTAL = GAL*3.785*8.20\n",
        "\n",
        "print (TOTAL)"
      ],
      "execution_count": 6,
      "outputs": [
        {
          "output_type": "stream",
          "text": [
            "Cuantos galones? 8.40\n",
            "260.7108\n"
          ],
          "name": "stdout"
        }
      ]
    },
    {
      "cell_type": "code",
      "metadata": {
        "colab": {
          "base_uri": "https://localhost:8080/"
        },
        "id": "gM1mZ5QVK_-_",
        "outputId": "4ac5eb7b-f752-44c4-f523-5d96435e4382"
      },
      "source": [
        "#ejercicio1.5\n",
        "\n",
        "RADIO=0\n",
        "ALTU=0\n",
        "VOL=0\n",
        "ARE=0\n",
        "\n",
        "RADIO= float(input(\"Dame el radio: \"))\n",
        "ALTU= float(input(\"Dame la altura: \"))\n",
        "VOL= 3.141592*(RADIO**2)*ALTU\n",
        "ARE= 2*3.141592*RADIO*ALTU\n",
        "\n",
        "print(f\"El volumen es: {VOL}\")\n",
        "print(f\"El Area es: {ARE}\")"
      ],
      "execution_count": 14,
      "outputs": [
        {
          "output_type": "stream",
          "text": [
            "Dame el radio: 45.22\n",
            "Dame la altura: 11.50\n",
            "El volumen es: 73876.9128085072\n",
            "El Area es: 3267.44417552\n"
          ],
          "name": "stdout"
        }
      ]
    },
    {
      "cell_type": "code",
      "metadata": {
        "colab": {
          "base_uri": "https://localhost:8080/"
        },
        "id": "pL6bpznPNg-g",
        "outputId": "7e64fe5c-93c5-47ab-b2bd-b033cebfe32f"
      },
      "source": [
        "#ejercicio1.6\n",
        "DIAS=0\n",
        "SEGUNDOS=0\n",
        "\n",
        "DIAS= int(input(\"Cuantos dias? \"))\n",
        "SEGUNDOS= DIAS*24*60*60\n",
        "\n",
        "print(f\"En {DIAS} dias hay {SEGUNDOS} segundos\")"
      ],
      "execution_count": 16,
      "outputs": [
        {
          "output_type": "stream",
          "text": [
            "Cuantos dias? 7\n",
            "En 7 dias hay 604800 segundos\n"
          ],
          "name": "stdout"
        }
      ]
    }
  ]
}