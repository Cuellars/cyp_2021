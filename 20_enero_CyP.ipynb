{
  "nbformat": 4,
  "nbformat_minor": 0,
  "metadata": {
    "colab": {
      "name": "20-enero.CyP.ipynb",
      "provenance": [],
      "authorship_tag": "ABX9TyNq04eraLVvkryJnIxyWdJi",
      "include_colab_link": true
    },
    "kernelspec": {
      "name": "python3",
      "display_name": "Python 3"
    }
  },
  "cells": [
    {
      "cell_type": "markdown",
      "metadata": {
        "id": "view-in-github",
        "colab_type": "text"
      },
      "source": [
        "<a href=\"https://colab.research.google.com/github/Cuellars/cyp_2021/blob/main/20_enero_CyP.ipynb\" target=\"_parent\"><img src=\"https://colab.research.google.com/assets/colab-badge.svg\" alt=\"Open In Colab\"/></a>"
      ]
    },
    {
      "cell_type": "code",
      "metadata": {
        "id": "ybtpA1X0dxf9"
      },
      "source": [
        ""
      ],
      "execution_count": null,
      "outputs": []
    },
    {
      "cell_type": "markdown",
      "metadata": {
        "id": "Yi35RSO_d2SF"
      },
      "source": [
        "#Tuplas\r\n",
        "- Tipo de dato lineal, estructura de datos\r\n",
        "- No mutable\r\n",
        "- Puede contener de 0 a N elementos\r\n",
        "- Se declara con '('y')'\r\n",
        "- No puedes agregar ni eliminar elementos.\r\n",
        "- Pueden ser anidadas.\r\n",
        "- Los argumentos a una función son enviadas como tuplas."
      ]
    },
    {
      "cell_type": "code",
      "metadata": {
        "colab": {
          "base_uri": "https://localhost:8080/"
        },
        "id": "j5j7PhzCd6_t",
        "outputId": "13c3ed70-21b6-47be-a72a-973a005e1f08"
      },
      "source": [
        "frutas=('Sandia','Melon','Limon','Mango','Melon')\r\n",
        "print(frutas)\r\n",
        "print(frutas[1:3:1])\r\n",
        "print(frutas.count('melon'))\r\n",
        "\r\n",
        "# Son inmutables\r\n",
        "#frutas[1]=\"manzana\"\r\n",
        "\r\n",
        "# Para que se usan?\r\n",
        "conexion=('132.248.12.12',3306,'cyp_bd',\"usr_test\",'1234dios')\r\n",
        "print(f\"usuario:{conexion[3]} y passwd:{conexion[4]}\")"
      ],
      "execution_count": 1,
      "outputs": [
        {
          "output_type": "stream",
          "text": [
            "('Sandia', 'Melon', 'Limon', 'Mango', 'Melon')\n",
            "('Melon', 'Limon')\n",
            "0\n",
            "usuario:usr_test y passwd:1234dios\n"
          ],
          "name": "stdout"
        }
      ]
    },
    {
      "cell_type": "code",
      "metadata": {
        "colab": {
          "base_uri": "https://localhost:8080/"
        },
        "id": "SxJmW9eLeHqw",
        "outputId": "2bc7423f-d5dc-49f0-bf6f-d7653a90f527"
      },
      "source": [
        "\r\n",
        "print(dir(frutas))"
      ],
      "execution_count": 2,
      "outputs": [
        {
          "output_type": "stream",
          "text": [
            "['__add__', '__class__', '__contains__', '__delattr__', '__dir__', '__doc__', '__eq__', '__format__', '__ge__', '__getattribute__', '__getitem__', '__getnewargs__', '__gt__', '__hash__', '__init__', '__init_subclass__', '__iter__', '__le__', '__len__', '__lt__', '__mul__', '__ne__', '__new__', '__reduce__', '__reduce_ex__', '__repr__', '__rmul__', '__setattr__', '__sizeof__', '__str__', '__subclasshook__', 'count', 'index']\n"
          ],
          "name": "stdout"
        }
      ]
    },
    {
      "cell_type": "code",
      "metadata": {
        "id": "fW8H3kTqeguA"
      },
      "source": [
        ""
      ],
      "execution_count": null,
      "outputs": []
    },
    {
      "cell_type": "markdown",
      "metadata": {
        "id": "qsHUdXI0eK6y"
      },
      "source": [
        "#Diccionarios\r\n",
        " - Estructura de datos semi lineal.\r\n",
        "- Formada por pares, llave - valor.\r\n",
        "- Equivalente al tupo de dato JSON, de JavaScript.\r\n",
        "- Utiliza organización por función de disperción.\r\n",
        "- Se declara con los elementos '{'y'}'\r\n",
        "- El selector usa valores de tipo string(llave)\r\n",
        "- No se puede saleccionar por offset [1]\r\n",
        " - Son mutables."
      ]
    },
    {
      "cell_type": "code",
      "metadata": {
        "id": "wx6VoM5iei7t"
      },
      "source": [
        "#  kareli\r\n",
        "alumno = {    'nombre'  : 'Juan Pérez'  ,\r\n",
        "          'edad' : 18, \r\n",
        "          'Matricula': 312193,\r\n",
        "          'calificaciones' : {'Mate': 8 , 'ciencias': 9, 'ingles': 8 },\r\n",
        "          'aprovado' : True,\r\n",
        "          'direccion': {\r\n",
        "                        'calle':'Rancho seco',\r\n",
        "                        'numero': 's/n',\r\n",
        "                        'colonia': 'impulsora popular avicola',\r\n",
        "                        'municipio': 'Mi-nezota',\r\n",
        "                        'estado':{\r\n",
        "                                   'clave':15,\r\n",
        "                                   'nombre_clave':'MEX',\r\n",
        "                                   'nombre':\"Estado de México\"\r\n",
        "                                  }\r\n",
        "                       }\r\n",
        "          }"
      ],
      "execution_count": 3,
      "outputs": []
    },
    {
      "cell_type": "code",
      "metadata": {
        "colab": {
          "base_uri": "https://localhost:8080/"
        },
        "id": "HirF755feoYo",
        "outputId": "34446178-9661-47db-aa73-1ef0575b730d"
      },
      "source": [
        "materia = [\"Algebra\", \"Computadoras y Programacion\", \"Calculo Diferencial e Integral\", \"Introduccion a la Ingenieria\", \"Geometria Analitica\"]\r\n",
        "alumno = {\"ID\" : (123456789), \"Nombre\" : \"Yael\", \"Apellido\" : \"Castillo\", \"Edad\" : 20, \"Escuela\" : \"FES Aragon\", \"Materia\" : materia}\r\n",
        "for i in alumno:\r\n",
        "    print(f\"Clave: {i} - Valor: {alumno[i]}\")"
      ],
      "execution_count": 4,
      "outputs": [
        {
          "output_type": "stream",
          "text": [
            "Clave: ID - Valor: 123456789\n",
            "Clave: Nombre - Valor: Yael\n",
            "Clave: Apellido - Valor: Castillo\n",
            "Clave: Edad - Valor: 20\n",
            "Clave: Escuela - Valor: FES Aragon\n",
            "Clave: Materia - Valor: ['Algebra', 'Computadoras y Programacion', 'Calculo Diferencial e Integral', 'Introduccion a la Ingenieria', 'Geometria Analitica']\n"
          ],
          "name": "stdout"
        }
      ]
    },
    {
      "cell_type": "code",
      "metadata": {
        "colab": {
          "base_uri": "https://localhost:8080/"
        },
        "id": "Ojkcbr_ZeuQG",
        "outputId": "0a22adf2-26a0-4be0-92a7-5ec63e53cfd3"
      },
      "source": [
        "\r\n",
        "alumno = {'nombre':'Juan Pérez','edad':18,'altura':1.71,'estatus':'Aprobado','numeros':[555645902, 55326372]}\r\n",
        "print(alumno)\r\n",
        "print( alumno ['numeros'])"
      ],
      "execution_count": 5,
      "outputs": [
        {
          "output_type": "stream",
          "text": [
            "{'nombre': 'Juan Pérez', 'edad': 18, 'altura': 1.71, 'estatus': 'Aprobado', 'numeros': [555645902, 55326372]}\n",
            "[555645902, 55326372]\n"
          ],
          "name": "stdout"
        }
      ]
    },
    {
      "cell_type": "code",
      "metadata": {
        "id": "v8HBbPdqezof"
      },
      "source": [
        "cliente= {}"
      ],
      "execution_count": 6,
      "outputs": []
    },
    {
      "cell_type": "code",
      "metadata": {
        "colab": {
          "base_uri": "https://localhost:8080/"
        },
        "id": "koF7-tBfe1HE",
        "outputId": "384faa02-872d-4b8a-e1aa-68f6de8fdde1"
      },
      "source": [
        "funciones= dir(dict)\r\n",
        "for funcion in funciones:\r\n",
        "  print(funcion)"
      ],
      "execution_count": 7,
      "outputs": [
        {
          "output_type": "stream",
          "text": [
            "__class__\n",
            "__contains__\n",
            "__delattr__\n",
            "__delitem__\n",
            "__dir__\n",
            "__doc__\n",
            "__eq__\n",
            "__format__\n",
            "__ge__\n",
            "__getattribute__\n",
            "__getitem__\n",
            "__gt__\n",
            "__hash__\n",
            "__init__\n",
            "__init_subclass__\n",
            "__iter__\n",
            "__le__\n",
            "__len__\n",
            "__lt__\n",
            "__ne__\n",
            "__new__\n",
            "__reduce__\n",
            "__reduce_ex__\n",
            "__repr__\n",
            "__setattr__\n",
            "__setitem__\n",
            "__sizeof__\n",
            "__str__\n",
            "__subclasshook__\n",
            "clear\n",
            "copy\n",
            "fromkeys\n",
            "get\n",
            "items\n",
            "keys\n",
            "pop\n",
            "popitem\n",
            "setdefault\n",
            "update\n",
            "values\n"
          ],
          "name": "stdout"
        }
      ]
    },
    {
      "cell_type": "markdown",
      "metadata": {
        "id": "AKUL2RLoe6PS"
      },
      "source": [
        "#Manipulcion de los pares llave valor.\r\n",
        "Para ello se emplean los metodos:\r\n",
        "\r\n",
        "- keys () te regresa una tupla con los strings llave del diccionario.\r\n",
        "- values Te regresa solo los valores\r\n",
        "- items() Te regresa los pares"
      ]
    },
    {
      "cell_type": "code",
      "metadata": {
        "colab": {
          "base_uri": "https://localhost:8080/"
        },
        "id": "r-69KRdQfCaQ",
        "outputId": "fff8694a-1bac-4509-98e6-0a8f3c42238e"
      },
      "source": [
        "print(alumno)\r\n",
        "llaves= alumno.keys()\r\n",
        "print(llaves)\r\n",
        "for elem in llaves:\r\n",
        "  print(elem)\r\n",
        "  print(alumno[elem])\r\n",
        "#print(help(llaves))"
      ],
      "execution_count": 8,
      "outputs": [
        {
          "output_type": "stream",
          "text": [
            "{'nombre': 'Juan Pérez', 'edad': 18, 'altura': 1.71, 'estatus': 'Aprobado', 'numeros': [555645902, 55326372]}\n",
            "dict_keys(['nombre', 'edad', 'altura', 'estatus', 'numeros'])\n",
            "nombre\n",
            "Juan Pérez\n",
            "edad\n",
            "18\n",
            "altura\n",
            "1.71\n",
            "estatus\n",
            "Aprobado\n",
            "numeros\n",
            "[555645902, 55326372]\n"
          ],
          "name": "stdout"
        }
      ]
    }
  ]
}