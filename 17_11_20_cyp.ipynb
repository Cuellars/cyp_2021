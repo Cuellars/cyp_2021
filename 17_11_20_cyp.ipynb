{
  "nbformat": 4,
  "nbformat_minor": 0,
  "metadata": {
    "colab": {
      "name": "17-11-20-cyp.ipynb",
      "provenance": [],
      "collapsed_sections": [],
      "authorship_tag": "ABX9TyPE71groyJ4uBB4lO9viqaM",
      "include_colab_link": true
    },
    "kernelspec": {
      "name": "python3",
      "display_name": "Python 3"
    }
  },
  "cells": [
    {
      "cell_type": "markdown",
      "metadata": {
        "id": "view-in-github",
        "colab_type": "text"
      },
      "source": [
        "<a href=\"https://colab.research.google.com/github/Cuellars/cyp_2021/blob/main/17_11_20_cyp.ipynb\" target=\"_parent\"><img src=\"https://colab.research.google.com/assets/colab-badge.svg\" alt=\"Open In Colab\"/></a>"
      ]
    },
    {
      "cell_type": "code",
      "metadata": {
        "colab": {
          "base_uri": "https://localhost:8080/"
        },
        "id": "r9sbP8H-SKsN",
        "outputId": "572f8789-0947-4af4-dd17-2786629bfd04"
      },
      "source": [
        "edad = 15\n",
        "estatura = 1.67\n",
        "a = 10\n",
        "b = 3\n",
        "\n",
        "c = 2 ** b\n",
        "print ( c )\n",
        "\n",
        "e = estatura * 2.0\n",
        "print (e)\n",
        "\n",
        "f = a / b #Se hace el calculo exacto \n",
        "print(f) #3.3333\n",
        "#podemos pedir el calculo en entero con doble \"//\"\n",
        "\n",
        "g = a // b\n",
        "print(g) \n",
        "\n",
        "h = a % b\n",
        "print (\"h =\" , h)\n",
        "\n",
        "num = 10\n",
        "print(\"es par el num?\", (num % 2) == 0)"
      ],
      "execution_count": 6,
      "outputs": [
        {
          "output_type": "stream",
          "text": [
            "8\n",
            "3.34\n",
            "3.3333333333333335\n",
            "3\n",
            "h = 1\n",
            "es par el num? True\n"
          ],
          "name": "stdout"
        }
      ]
    },
    {
      "cell_type": "code",
      "metadata": {
        "colab": {
          "base_uri": "https://localhost:8080/"
        },
        "id": "043lglx8W4yD",
        "outputId": "ac408d59-215b-496e-c347-91eb9cb02bb5"
      },
      "source": [
        "ecuacion = 9+7*8-36/5\n",
        "print(ecuacion)\n",
        "\n",
        "ecuacion = (9+7)*8-36/5 #los \"()\" dan prioridad en la ecuacion \n",
        "print(ecuacion)\n",
        "\n",
        "ecuacion = 9+7*(8-36)/5\n",
        "print(ecuacion)"
      ],
      "execution_count": 9,
      "outputs": [
        {
          "output_type": "stream",
          "text": [
            "57.8\n",
            "120.8\n",
            "-30.200000000000003\n"
          ],
          "name": "stdout"
        }
      ]
    },
    {
      "cell_type": "code",
      "metadata": {
        "colab": {
          "base_uri": "https://localhost:8080/"
        },
        "id": "sE23ookOb0Xy",
        "outputId": "ec4de4ee-3658-499d-cc67-2bfde87c1d19"
      },
      "source": [
        "#operadores logicos\n",
        "x = 5\n",
        "y = 4\n",
        "\n",
        "valor = (4 == 4) #true \n",
        "print(valor)\n",
        "\n",
        "valor = (4 == 3) #false \n",
        "print(valor)\n",
        "\n",
        "valor = (x == y)  #(sonn iguales?) falso\n",
        "print(valor)\n",
        "\n",
        "valor = (x != y) #true (sonn iguales?) verdadero\n",
        "\n",
        "print(valor)\n",
        "\n",
        "valor = (x < y)  #(x es menor que y?) falso\n",
        "print(valor)\n",
        "\n",
        "valor = (x > y)  #(x es mayor que y?) verdadero\n",
        "print(valor)\n",
        "\n",
        "y=5\n",
        "valor = (x <= y) # x es menor o igual que y? verdadero\n",
        "print(valor)\n",
        "\n",
        "y=5\n",
        "valor = (x >= y) # x es mayor o igual que y? verdadero\n",
        "print(valor)"
      ],
      "execution_count": 18,
      "outputs": [
        {
          "output_type": "stream",
          "text": [
            "True\n",
            "False\n",
            "False\n",
            "True\n",
            "False\n",
            "True\n",
            "True\n",
            "True\n"
          ],
          "name": "stdout"
        }
      ]
    },
    {
      "cell_type": "code",
      "metadata": {
        "colab": {
          "base_uri": "https://localhost:8080/"
        },
        "id": "20gZ03njfgfY",
        "outputId": "cb25df28-24df-4d72-d995-76fbae887acd"
      },
      "source": [
        "\n",
        "costo_chetos = 7.0\n",
        "tienda_abierta = True\n",
        "capital_en_bolsa = 10.0\n",
        "\n",
        "se_compra = (costo_chetos < capital_en_bolsa) and (tienda_abierta == True)\n",
        "print(se_compra)"
      ],
      "execution_count": 22,
      "outputs": [
        {
          "output_type": "stream",
          "text": [
            "True\n"
          ],
          "name": "stdout"
        }
      ]
    }
  ]
}