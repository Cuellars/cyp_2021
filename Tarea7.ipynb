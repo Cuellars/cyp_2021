{
  "nbformat": 4,
  "nbformat_minor": 0,
  "metadata": {
    "colab": {
      "name": "Untitled2.ipynb",
      "provenance": [],
      "authorship_tag": "ABX9TyMFK5VopODUrFtUSLhbyN24",
      "include_colab_link": true
    },
    "kernelspec": {
      "name": "python3",
      "display_name": "Python 3"
    }
  },
  "cells": [
    {
      "cell_type": "markdown",
      "metadata": {
        "id": "view-in-github",
        "colab_type": "text"
      },
      "source": [
        "<a href=\"https://colab.research.google.com/github/Cuellars/cyp_2021/blob/main/Tarea7.ipynb\" target=\"_parent\"><img src=\"https://colab.research.google.com/assets/colab-badge.svg\" alt=\"Open In Colab\"/></a>"
      ]
    },
    {
      "cell_type": "code",
      "metadata": {
        "colab": {
          "base_uri": "https://localhost:8080/"
        },
        "id": "Ohk9TC45fKxj",
        "outputId": "095248c6-4d3b-4592-a082-09e4d73c256c"
      },
      "source": [
        "#4.11\r\n",
        "total = int(input(\"¿Cuántos países en total serán?: \"))\r\n",
        "\r\n",
        "qnorte, qcentro, qsur, aux, aux2 = 0, 0, 0, 0, 0\r\n",
        "while True:\r\n",
        "  qnorte = int(input(\"¿Cuántos países serán para el Norte de América?: \"))\r\n",
        "  qcentro = int(input(\"¿Cuántos países serán para el Centro de América?: \"))\r\n",
        "  qsur = int(input(\"¿Cuántos países serán para el Sur de América?: \"))\r\n",
        "  aux = qnorte + qcentro + qsur\r\n",
        "\r\n",
        "  if aux == total:\r\n",
        "    break;\r\n",
        "  elif aux < total:\r\n",
        "    print(\"La cantidad de países ingresada por regiones es menor a la total.\")\r\n",
        "  elif aux > total:\r\n",
        "    print(\"La cantidad de países ingresada por regiones es mayor a la total.\")\r\n",
        "\r\n",
        "lpaises = [\"Norte\", \"Centro\", \"Sur\"]\r\n",
        "aux = 0\r\n",
        "pnorte = [str(0) for x in range(qnorte)]\r\n",
        "pcentro = [str(0) for x in range(qcentro)]\r\n",
        "psur = [str(0) for x in range(qsur)]\r\n",
        "ptotal = [str(0) for x in range(total)]\r\n",
        "\r\n",
        "for i in range(total):\r\n",
        "  ptotal[i] = str(input(f\"Ingresa el nombre del país n°{aux+1} para la región del {lpaises[aux2]} de América: \"))\r\n",
        "  aux += 1\r\n",
        "  if aux2 == 0:\r\n",
        "    if aux >= qnorte:\r\n",
        "      aux = 0\r\n",
        "      aux2 = 1\r\n",
        "    pnorte[aux] = ptotal[i]\r\n",
        "  elif aux2 == 1:\r\n",
        "    if aux >= qcentro:\r\n",
        "      aux = 0\r\n",
        "      aux2 = 2\r\n",
        "    pcentro[aux] = ptotal[i]\r\n",
        "  elif aux2 == 2:\r\n",
        "    if aux >= qsur:\r\n",
        "      aux = 0\r\n",
        "    psur[aux] = ptotal[i]\r\n",
        "\r\n",
        "print(f\"Norte: {sorted(pnorte)}\")\r\n",
        "print(f\"Centro: {sorted(pcentro)}\")\r\n",
        "print(f\"Sur: {sorted(psur)}\")\r\n",
        "print(f\"Todos: {sorted(ptotal)}\")"
      ],
      "execution_count": 1,
      "outputs": [
        {
          "output_type": "stream",
          "text": [
            "¿Cuántos países en total serán?: 3\n",
            "¿Cuántos países serán para el Norte de América?: 1\n",
            "¿Cuántos países serán para el Centro de América?: 1\n",
            "¿Cuántos países serán para el Sur de América?: 1\n",
            "Ingresa el nombre del país n°1 para la región del Norte de América: canada\n",
            "Ingresa el nombre del país n°1 para la región del Centro de América: panama\n",
            "Ingresa el nombre del país n°1 para la región del Sur de América: peru\n",
            "Norte: ['canada']\n",
            "Centro: ['panama']\n",
            "Sur: ['peru']\n",
            "Todos: ['canada', 'panama', 'peru']\n"
          ],
          "name": "stdout"
        }
      ]
    }
  ]
}