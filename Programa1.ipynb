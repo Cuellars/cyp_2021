{
  "nbformat": 4,
  "nbformat_minor": 0,
  "metadata": {
    "colab": {
      "name": "Programa1",
      "provenance": [],
      "authorship_tag": "ABX9TyOpn0aoBnO7BAXk0riqt/tF",
      "include_colab_link": true
    },
    "kernelspec": {
      "name": "python3",
      "display_name": "Python 3"
    },
    "language_info": {
      "name": "python"
    }
  },
  "cells": [
    {
      "cell_type": "markdown",
      "metadata": {
        "id": "view-in-github",
        "colab_type": "text"
      },
      "source": [
        "<a href=\"https://colab.research.google.com/github/Cuellars/cyp_2021/blob/main/Programa1.ipynb\" target=\"_parent\"><img src=\"https://colab.research.google.com/assets/colab-badge.svg\" alt=\"Open In Colab\"/></a>"
      ]
    },
    {
      "cell_type": "code",
      "metadata": {
        "colab": {
          "base_uri": "https://localhost:8080/"
        },
        "id": "7yKNsMNZ0pdZ",
        "outputId": "4926a649-ed80-4b20-98dc-a8a8b32dd7a4"
      },
      "source": [
        "def numInt(pais):\n",
        "    switch={\n",
        "        \"mexico\": \"+52\"\n",
        "        \n",
        "    }\n",
        "    return switch.get(pais.lower(),\"STDERR\")\n",
        "\n",
        "x = int(1)\n",
        "while(x == 1):\n",
        "\n",
        "    numero = str(input(\"Numero telefonico: \"))\n",
        "    pais = str(input(\"Pais donde vive: \"))\n",
        "    if(numInt(pais) == \"STDERR\"):\n",
        "        print(\"Intente de nuevo: \")\n",
        "    else:\n",
        "        x = 0\n",
        "\n",
        "        print(numInt(pais)+numero.replace(\" \",\"\"));"
      ],
      "execution_count": 9,
      "outputs": [
        {
          "output_type": "stream",
          "name": "stdout",
          "text": [
            "Numero telefonico: 5587583232\n",
            "Pais donde vive: Mexico\n",
            "+525587583232\n"
          ]
        }
      ]
    }
  ]
}