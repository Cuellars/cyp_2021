{
  "nbformat": 4,
  "nbformat_minor": 0,
  "metadata": {
    "colab": {
      "name": "5-enero-CyP.ipynb",
      "provenance": [],
      "authorship_tag": "ABX9TyOkG8JLF92Sz4RwxjijAjYF",
      "include_colab_link": true
    },
    "kernelspec": {
      "name": "python3",
      "display_name": "Python 3"
    }
  },
  "cells": [
    {
      "cell_type": "markdown",
      "metadata": {
        "id": "view-in-github",
        "colab_type": "text"
      },
      "source": [
        "<a href=\"https://colab.research.google.com/github/Cuellars/cyp_2021/blob/main/5_enero_CyP.ipynb\" target=\"_parent\"><img src=\"https://colab.research.google.com/assets/colab-badge.svg\" alt=\"Open In Colab\"/></a>"
      ]
    },
    {
      "cell_type": "code",
      "metadata": {
        "colab": {
          "base_uri": "https://localhost:8080/"
        },
        "id": "THqqvgvikRSO",
        "outputId": "2c1e2fcd-be02-476c-fe0d-d157acce20c7"
      },
      "source": [
        "sueldo= [0.0 for x in range (7)]\r\n",
        "print (sueldo)\r\n",
        "sueldo [0]=12.3\r\n",
        "sueldo [1]=13.3\r\n",
        "sueldo [2]=14.3\r\n",
        "sueldo [3]=15.3\r\n",
        "sueldo [4]=16.3\r\n",
        "sueldo [5]=17.3\r\n",
        "sueldo [6]=18.3\r\n",
        "print (sueldo)\r\n",
        "\r\n",
        "sueldos = [0.0 for x in range(7)]\r\n",
        "print(sueldos)\r\n",
        "i= 0\r\n",
        "nue_valor= 1.0\r\n",
        "for i in range(7):\r\n",
        "  sueldos[i]= nue_valor\r\n",
        "  nue_valor= nue_valor + 1\r\n",
        "  i= i + 1\r\n",
        "print(sueldos)\r\n",
        "\r\n",
        "for i in range(7):\r\n",
        "  print(f\"el trabajador {int (i)+1} gana ${sueldo[i]} \")"
      ],
      "execution_count": 16,
      "outputs": [
        {
          "output_type": "stream",
          "text": [
            "[0.0, 0.0, 0.0, 0.0, 0.0, 0.0, 0.0]\n",
            "[12.3, 13.3, 14.3, 15.3, 16.3, 17.3, 18.3]\n",
            "[0.0, 0.0, 0.0, 0.0, 0.0, 0.0, 0.0]\n",
            "[1.0, 2.0, 3.0, 4.0, 5.0, 6.0, 7.0]\n",
            "el trabajador 1 gana $12.3 \n",
            "el trabajador 2 gana $13.3 \n",
            "el trabajador 3 gana $14.3 \n",
            "el trabajador 4 gana $15.3 \n",
            "el trabajador 5 gana $16.3 \n",
            "el trabajador 6 gana $17.3 \n",
            "el trabajador 7 gana $18.3 \n"
          ],
          "name": "stdout"
        }
      ]
    },
    {
      "cell_type": "code",
      "metadata": {
        "colab": {
          "base_uri": "https://localhost:8080/"
        },
        "id": "_IzJ9cKuowuG",
        "outputId": "cb2fc259-0ab1-41ca-a56a-373d5f04bed9"
      },
      "source": [
        "#proble4.1\r\n",
        "MAXIMO= 7\r\n",
        "sueldos = [0.0 for x in range(MAXIMO)]\r\n",
        "suma = 0.0\r\n",
        "promedio = 0.0\r\n",
        "\r\n",
        "\r\n",
        "for i in range(MAXIMO):\r\n",
        "  sueldos[i]= float(input(\"same elsueldo: \"))\r\n",
        "\r\n",
        "for i in range(MAXIMO):\r\n",
        "  print(f\"trabajador {i+1} gana: {sueldos[i]}\")\r\n",
        "\r\n",
        "for i in range(MAXIMO):\r\n",
        "  suma = suma + sueldos [i]\r\n",
        "\r\n",
        "promedio = suma/MAXIMO\r\n",
        "\r\n",
        "print(f\"el ppromedio del sueldos es $ {promedio}5\")\r\n",
        "\r\n",
        "for i in range(MAXIMO):\r\n",
        "  if sueldos5[i] > promedio:\r\n",
        "    print(f\"el trabajador {i+1} tiene un sueldo mayor al promedio4\")"
      ],
      "execution_count": 14,
      "outputs": [
        {
          "output_type": "stream",
          "text": [
            "same elsueldo: 4\n",
            "same elsueldo: 5\n",
            "same elsueldo: 4\n",
            "same elsueldo: 5\n",
            "same elsueldo: 4\n",
            "same elsueldo: 5\n",
            "same elsueldo: 4\n",
            "trabajador 1 gana: 4.0\n",
            "trabajador 2 gana: 5.0\n",
            "trabajador 3 gana: 4.0\n",
            "trabajador 4 gana: 5.0\n",
            "trabajador 5 gana: 4.0\n",
            "trabajador 6 gana: 5.0\n",
            "trabajador 7 gana: 4.0\n",
            "el ppromedio del sueldos es $ 4.4285714285714295\n",
            "el trabajador 2 tiene un sueldo mayor al promedio4\n",
            "el trabajador 4 tiene un sueldo mayor al promedio4\n",
            "el trabajador 6 tiene un sueldo mayor al promedio4\n"
          ],
          "name": "stdout"
        }
      ]
    },
    {
      "cell_type": "code",
      "metadata": {
        "colab": {
          "base_uri": "https://localhost:8080/"
        },
        "id": "rLAdBC6yuvu9",
        "outputId": "466b7af1-6cca-4df0-db6c-13a47bcb154b"
      },
      "source": [
        "Max = 5\r\n",
        "valor =  [0.0 for x in range(Max)]\r\n",
        "sum = 0.0\r\n",
        "prom = 0.0\r\n",
        "M = 0\r\n",
        "m = 100000000\r\n",
        "\r\n",
        "for i in range(Max):\r\n",
        "  valor[i] = int(input(\"Dame un valor entero positivo: \"))\r\n",
        "  if valor[i] > M:\r\n",
        "    M = valor[i]\r\n",
        "  elif valor[i] < m:\r\n",
        "    m = valor[i]\r\n",
        "\r\n",
        "for i in range(Max):\r\n",
        "  sum = sum + valor[i]\r\n",
        "\r\n",
        "prom = sum / Max\r\n",
        "\r\n",
        "print(f\"El numero mayor es {M}\")\r\n",
        "print(f\"El numero menor es {m}\")\r\n",
        "print(f\"El promedio es {prom}\")"
      ],
      "execution_count": 17,
      "outputs": [
        {
          "output_type": "stream",
          "text": [
            "Dame un valor entero positivo: 4\n",
            "Dame un valor entero positivo: 2\n",
            "Dame un valor entero positivo: 1\n",
            "Dame un valor entero positivo: 5\n",
            "Dame un valor entero positivo: 6\n",
            "El numero mayor es 6\n",
            "El numero menor es 1\n",
            "El promedio es 3.6\n"
          ],
          "name": "stdout"
        }
      ]
    },
    {
      "cell_type": "code",
      "metadata": {
        "colab": {
          "base_uri": "https://localhost:8080/"
        },
        "id": "cZDNMhMEw_Mv",
        "outputId": "e577633b-52f5-4140-cc41-ca954750910a"
      },
      "source": [
        "N = int(input(\"Ingrese el numero de elementos del arreglo: \"))\r\n",
        "VEC = []\r\n",
        "if 1 <= N and N <=500:\r\n",
        "  VEC = [0 for x in range(N)]\r\n",
        "  for I in range(N):\r\n",
        "    VEC[I]=int(input(\"Ingrese valor\" + str(I+1) + \":\"))\r\n",
        "  print(\"Lista de numero sin repeticiones: \")\r\n",
        "\r\n",
        "  I =0\r\n",
        "  while I<N:\r\n",
        "    print(VEC[I])\r\n",
        "    REPET = VEC[I]\r\n",
        "    while I < N and REPET == VEC[I]:\r\n",
        "      I = I +1\r\n",
        "    I = I + 1\r\n",
        "else: \r\n",
        "  print(\"EL numero de elementos del arreglo es incorrecto\")"
      ],
      "execution_count": 5,
      "outputs": [
        {
          "output_type": "stream",
          "text": [
            "Ingrese el numero de elementos del arreglo: 5\n",
            "Ingrese valor1:2\n",
            "Ingrese valor2:2\n",
            "Ingrese valor3:3\n",
            "Ingrese valor4:3\n",
            "Ingrese valor5:3\n",
            "Lista de numero sin repeticiones: \n",
            "2\n",
            "3\n"
          ],
          "name": "stdout"
        }
      ]
    }
  ]
}