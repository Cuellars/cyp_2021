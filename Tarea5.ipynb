{
  "nbformat": 4,
  "nbformat_minor": 0,
  "metadata": {
    "colab": {
      "name": "Tarea5.ipynb",
      "provenance": [],
      "authorship_tag": "ABX9TyN/jL5P+cGg5JPcoAxYv/ph",
      "include_colab_link": true
    },
    "kernelspec": {
      "name": "python3",
      "display_name": "Python 3"
    }
  },
  "cells": [
    {
      "cell_type": "markdown",
      "metadata": {
        "id": "view-in-github",
        "colab_type": "text"
      },
      "source": [
        "<a href=\"https://colab.research.google.com/github/Cuellars/cyp_2021/blob/main/Tarea5.ipynb\" target=\"_parent\"><img src=\"https://colab.research.google.com/assets/colab-badge.svg\" alt=\"Open In Colab\"/></a>"
      ]
    },
    {
      "cell_type": "code",
      "metadata": {
        "colab": {
          "base_uri": "https://localhost:8080/"
        },
        "id": "WeIBTZJqGkGW",
        "outputId": "452881d3-5ae1-45b4-efe8-0c1963cd73ea"
      },
      "source": [
        "#ejercicio3.1\r\n",
        "import array\r\n",
        "array.array('f')\r\n",
        "sueldos = array.array('f',(0 for i in range(0, 10)))\r\n",
        "\r\n",
        "nomina = float(0)\r\n",
        "\r\n",
        "for i in range (0, 10):\r\n",
        "  sueldos[i] = int(input(f\"Ingresa el {i+1} sueldo: \"))\r\n",
        "  nomina += sueldos[i]\r\n",
        "\r\n",
        "print(\"La nomina de la empresa con base a los sueldos es: \", nomina)"
      ],
      "execution_count": 1,
      "outputs": [
        {
          "output_type": "stream",
          "text": [
            "Ingresa el 1 sueldo: 1500\n",
            "Ingresa el 2 sueldo: 890\n",
            "Ingresa el 3 sueldo: 700\n",
            "Ingresa el 4 sueldo: 950\n",
            "Ingresa el 5 sueldo: 2300\n",
            "Ingresa el 6 sueldo: 1650\n",
            "Ingresa el 7 sueldo: 1800\n",
            "Ingresa el 8 sueldo: 1400\n",
            "Ingresa el 9 sueldo: 760\n",
            "Ingresa el 10 sueldo: 900\n",
            "La nomina de la empresa con base a los sueldos es:  12850.0\n"
          ],
          "name": "stdout"
        }
      ]
    },
    {
      "cell_type": "code",
      "metadata": {
        "colab": {
          "base_uri": "https://localhost:8080/"
        },
        "id": "Gw4qkSCCG4lJ",
        "outputId": "5e00645e-ce82-4bc4-a318-bffad95ddf06"
      },
      "source": [
        "#ejercicio3.4\r\n",
        "import array\r\n",
        "array.array('f')\r\n",
        "gastos = array.array('f',(0 for i in range(0, 999)))\r\n",
        "a = int(0)\r\n",
        "yes_no = ''\r\n",
        "total_gastos = float(0)\r\n",
        "\r\n",
        "while True:\r\n",
        "  gastos[a] = float(input(f\"¿De cuanto fue el {a+1} gasto?: \"))\r\n",
        "  total_gastos += gastos[a]\r\n",
        "  while True:\r\n",
        "    yes_no = ''\r\n",
        "    yes_no = str(input(\"¿Hubo algún otro gasto? S/N: \"))\r\n",
        "    if yes_no == 's' or yes_no == 'S' or yes_no == 'n' or yes_no == 'N':\r\n",
        "      break;\r\n",
        "    else:\r\n",
        "      print(\"Debes ingresar S o N para continuar.\\n\")\r\n",
        "  if yes_no == 'n' or yes_no == 'N':\r\n",
        "    break;\r\n",
        "  elif yes_no == 's' or yes_no == 'S':\r\n",
        "    a += 1\r\n",
        "\r\n",
        "print(\"\\nEl total de gastos durante el viaje es de: \",total_gastos)\r\n",
        "print(\"\\nLos gastos individuales son:\\n\")\r\n",
        "\r\n",
        "for i in range (0, a+1):\r\n",
        "  print(f\"{i+1} gasto es de: {gastos[i]}\")"
      ],
      "execution_count": 3,
      "outputs": [
        {
          "output_type": "stream",
          "text": [
            "¿De cuanto fue el 1 gasto?: 350\n",
            "¿Hubo algún otro gasto? S/N: s\n",
            "¿De cuanto fue el 2 gasto?: 789\n",
            "¿Hubo algún otro gasto? S/N: n\n",
            "\n",
            "El total de gastos durante el viaje es de:  1139.0\n",
            "\n",
            "Los gastos individuales son:\n",
            "\n",
            "1 gasto es de: 350.0\n",
            "2 gasto es de: 789.0\n"
          ],
          "name": "stdout"
        }
      ]
    }
  ]
}