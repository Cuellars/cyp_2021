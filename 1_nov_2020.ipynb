{
  "nbformat": 4,
  "nbformat_minor": 0,
  "metadata": {
    "colab": {
      "name": "1-nov-2020.ipynb",
      "provenance": [],
      "authorship_tag": "ABX9TyMtj6BTroEl650rCwifaAzb",
      "include_colab_link": true
    },
    "kernelspec": {
      "name": "python3",
      "display_name": "Python 3"
    }
  },
  "cells": [
    {
      "cell_type": "markdown",
      "metadata": {
        "id": "view-in-github",
        "colab_type": "text"
      },
      "source": [
        "<a href=\"https://colab.research.google.com/github/Cuellars/cyp_2021/blob/main/1_nov_2020.ipynb\" target=\"_parent\"><img src=\"https://colab.research.google.com/assets/colab-badge.svg\" alt=\"Open In Colab\"/></a>"
      ]
    },
    {
      "cell_type": "code",
      "metadata": {
        "colab": {
          "base_uri": "https://localhost:8080/"
        },
        "id": "EfVh0u4tywtG",
        "outputId": "8fa31117-5146-4d25-a6a2-d52e97dd55ec"
      },
      "source": [
        "#Ejercicio 1. Pedir tres núemros enteros y mostrar el mayor de los tres\n",
        "\n",
        "numero1 = int(input(\"Introduce el primer número: \"))\n",
        "numero2 = int(input(\"Introduce el segundo número: \"))\n",
        "numero3 = int(input(\"Introduce el tercer número: \"))\n",
        "\n",
        "if numero1 >= numero2 and numero1 >= numero3:\n",
        "  print(numero1,\"es el mayor\")\n",
        "\n",
        "elif numero2 >= numero1 and numero2 >= numero3:\n",
        "  print(numero2, \"es el mayor\") \n",
        "\n",
        "else: \n",
        "  print(numero3,\"es el mayor\")\n"
      ],
      "execution_count": 1,
      "outputs": [
        {
          "output_type": "stream",
          "text": [
            "Introduce el primer número: 6\n",
            "Introduce el segundo número: 7\n",
            "Introduce el tercer número: 7\n",
            "7 es el mayor\n"
          ],
          "name": "stdout"
        }
      ]
    },
    {
      "cell_type": "code",
      "metadata": {
        "colab": {
          "base_uri": "https://localhost:8080/"
        },
        "id": "G5MuyUgJyzap",
        "outputId": "735ef870-ad85-4b07-c563-43f0d6de06e8"
      },
      "source": [
        "#Ejemplo2\n",
        "print(\"Ingrese el nombre del trabajador\")\n",
        "nombre = input()\n",
        "print(\"Cuantas horas trabajo esta semana\", nombre,\":\")\n",
        "horas = float(input())\n",
        "print(\"¿Cuanto se paga por hora?:\")\n",
        "sueldoH=float(input())\n",
        "\n",
        "#Evaluar el sueldo\n",
        "\n",
        "if(horas < 40):\n",
        "  pago=horas * sueldoH\n",
        "  print(\"El sueldo final de \", nombre, \"Es $\", pago)\n",
        "\n",
        "else:\n",
        "  extras=horas-40\n",
        "  pago=40 * sueldoH\n",
        "  pagoFinal=pago + ((extras * sueldoH)*2)\n",
        "  print(\"El sueldo final de\",nombre , \"es $\", pagoFinal)"
      ],
      "execution_count": 2,
      "outputs": [
        {
          "output_type": "stream",
          "text": [
            "Ingrese el nombre del trabajador\n",
            "lorena\n",
            "Cuantas horas trabajo esta semana lorena :\n",
            "8\n",
            "¿Cuanto se paga por hora?:\n",
            "60\n",
            "El sueldo final de  lorena Es $ 480.0\n"
          ],
          "name": "stdout"
        }
      ]
    },
    {
      "cell_type": "code",
      "metadata": {
        "colab": {
          "base_uri": "https://localhost:8080/",
          "height": 135
        },
        "id": "WmETki8Vy24j",
        "outputId": "bf71d337-b03a-446c-a6ca-e20b782ab6e6"
      },
      "source": [
        "#Calcular el salario semanal de x trabajador\n",
        "#El salario semanal se calcula en base a las horas semanales trabajadas\n",
        "#El pago por hora es variable (se pide por teclado)\n",
        "#Si las horas trabajadas superan las 40 horas, el pago por hora extra es:\n",
        "#Doble en el rango de 41horas a 50horas\n",
        "#Triple en el rango de 51horas a 60 horas\n",
        "#Incentivo de $2000 si rebasa las 60 horas.\n",
        "\n",
        "print(\"ingrese el nombre del trabajador\")\n",
        "nombre=input()\n",
        "print(\"Cuantas horas trabajo esta semana\", nombre, \": \")\n",
        "horas=int(input())\n",
        "print(\"Cuanto se paga por hora?: \")\n",
        "sueldoH=int(input())\n",
        "suledo=float(sueldoH)\n",
        "\n",
        "#evaluar el sueldo\n",
        "\n",
        "if (horas<=40):\n",
        "  pago=horas * sueldoH\n",
        "  print(\"El sueldo final de\" ,nombre , \"Es $\", pago)\n",
        "\n",
        "elif (horas > 40 and horas <= 50):\n",
        "  extrasDobles=horas-40\n",
        "  print(\"Horas extras dobles\", extrasDobles)\n",
        "  pago=40 * sueldoH\n",
        "  print(\"sueldo base:$\" , pago)\n",
        "  pagoDoble= extrasDoble * sueldoH *2\n",
        "  print(\"pago en horas dobles:$\" ,pagoDoble)\n",
        "  pagoFinal= pago +pagoDoble\n",
        "  print(\"El sueldo final de:\" ,nombre ,\"Es $\", pagoFinal)\n",
        "\n",
        "elif (horas >50 and horas <=60):\n",
        "  extrasTriples=horas-50\n",
        "  print(\"horas extra dobles:10\")\n",
        "  print(\"horas extra triples:\",extrasTriples)\n",
        "  pago= 40* sueldoH\n",
        "  print(\"sueldo base:$\", pago)\n",
        "  pagoDoble=10*sueldoH*2\n",
        "  print(\"pago de horas extras dobles:\", pagoDoble)\n",
        "  pagoTriple=extrasTriples * sueldoH*3\n",
        "  print(\"pago de horas extra triples:\", pagoTriple)\n",
        "  print(\"Incentivo por trabajar más de 60 horas:$ $2000\")\n",
        "  pagoFinal= pago+pagoDoble+pagoTriple+2000\n",
        "  print(\"El sueldo Final de : \" ,nombre , \"Es $\", pagoFinal)"
      ],
      "execution_count": 3,
      "outputs": [
        {
          "output_type": "error",
          "ename": "IndentationError",
          "evalue": "ignored",
          "traceback": [
            "\u001b[0;36m  File \u001b[0;32m\"<ipython-input-3-3cf5c26e91ef>\"\u001b[0;36m, line \u001b[0;32m40\u001b[0m\n\u001b[0;31m    print(\"pago de horas extras dobles:\", pagoDoble)\u001b[0m\n\u001b[0m    ^\u001b[0m\n\u001b[0;31mIndentationError\u001b[0m\u001b[0;31m:\u001b[0m unexpected indent\n"
          ]
        }
      ]
    },
    {
      "cell_type": "code",
      "metadata": {
        "id": "Ywgn1l3zzDxD"
      },
      "source": [
        "#Estructura FOR\n",
        "\n",
        "  #Ejemplo1\n",
        "for estaciones_año in [\"primavera\",\"verano\",\"otoño\",\"invierno\",\"venus\"]:\n",
        "  print(estaciones_año)\n",
        "\n",
        "#variables que suelen formar parte de FOR son \"i\""
      ],
      "execution_count": null,
      "outputs": []
    }
  ]
}