{
  "nbformat": 4,
  "nbformat_minor": 0,
  "metadata": {
    "colab": {
      "name": "10-nov-cyp.ipynb",
      "provenance": [],
      "collapsed_sections": [],
      "authorship_tag": "ABX9TyMZU9O2M8H1goe5IZWM0CFF",
      "include_colab_link": true
    },
    "kernelspec": {
      "name": "python3",
      "display_name": "Python 3"
    }
  },
  "cells": [
    {
      "cell_type": "markdown",
      "metadata": {
        "id": "view-in-github",
        "colab_type": "text"
      },
      "source": [
        "<a href=\"https://colab.research.google.com/github/Cuellars/cyp_2021/blob/main/10_nov_cyp.ipynb\" target=\"_parent\"><img src=\"https://colab.research.google.com/assets/colab-badge.svg\" alt=\"Open In Colab\"/></a>"
      ]
    },
    {
      "cell_type": "code",
      "metadata": {
        "colab": {
          "base_uri": "https://localhost:8080/"
        },
        "id": "uydLYNKqhAr_",
        "outputId": "b7348ee4-8d51-443c-ea05-eb9dc44d78d1"
      },
      "source": [
        "I=0\n",
        "I=I+1\n",
        "I=I+1\n",
        "print(f\"I={I}\")\n",
        "J=5**2/3\n",
        "print(f\"J={J}\")"
      ],
      "execution_count": 6,
      "outputs": [
        {
          "output_type": "stream",
          "text": [
            "I=2\n",
            "J=8.333333333333334\n"
          ],
          "name": "stdout"
        }
      ]
    },
    {
      "cell_type": "code",
      "metadata": {
        "colab": {
          "base_uri": "https://localhost:8080/"
        },
        "id": "TeWBgSh5m5sZ",
        "outputId": "44540900-83e9-4379-d181-67c702a92192"
      },
      "source": [
        "#Ejemplo1.6 declaracion de memorias\n",
        "A=0\n",
        "B=0\n",
        "C=0\n",
        "D=0\n",
        "\n",
        "A = int(input(\"Dame un valor entero:\"))\n",
        "B = int(input(\"Dame un valor entero:\"))\n",
        "C = int(input(\"Dame un valor entero:\"))\n",
        "D = int(input(\"Dame un valor entero:\"))\n",
        "\n",
        "print(D)\n",
        "print(C)\n",
        "print(B)\n",
        "print(A)"
      ],
      "execution_count": 8,
      "outputs": [
        {
          "output_type": "stream",
          "text": [
            "Dame un valor entero:10\n",
            "Dame un valor entero:20\n",
            "Dame un valor entero:30\n",
            "Dame un valor entero:40\n",
            "40\n",
            "30\n",
            "20\n",
            "10\n"
          ],
          "name": "stdout"
        }
      ]
    },
    {
      "cell_type": "code",
      "metadata": {
        "colab": {
          "base_uri": "https://localhost:8080/"
        },
        "id": "Yb1Fbr8JpKW_",
        "outputId": "6036c974-95e6-410e-bf3a-f39764c47003"
      },
      "source": [
        "#ejemplo1.7\n",
        "A =0\n",
        "B =0\n",
        "A= int(input(\"dame un enero: \"))\n",
        "B= int(input(\"dame otro un enero: \"))\n",
        "RES= (A+B)** 2/3\n",
        "print(RES)"
      ],
      "execution_count": 11,
      "outputs": [
        {
          "output_type": "stream",
          "text": [
            "dame un enero: 14\n",
            "dame otro un enero: -5\n",
            "27.0\n"
          ],
          "name": "stdout"
        }
      ]
    },
    {
      "cell_type": "code",
      "metadata": {
        "colab": {
          "base_uri": "https://localhost:8080/"
        },
        "id": "f_cXilx2trjW",
        "outputId": "1ebfb66d-876a-45ba-a320-925b7bef4d07"
      },
      "source": [
        "#ejemplo1.8\n",
        "MAT= 0\n",
        "CAL1= 0\n",
        "CAL2= 0\n",
        "CAL3= 0\n",
        "CAL4= 0\n",
        "CAL5= 0\n",
        "\n",
        "MAT=  int(input(\"Matricula:\"))\n",
        "CAL1= float(input(\"dame la calificaion: \"))\n",
        "CAL2= float(input(\"dame la calificaion: \"))\n",
        "CAL3= float(input(\"dame la calificaion: \"))\n",
        "CAL4= float(input(\"dame la calificaion: \"))\n",
        "CAL5= float(input(\"dame la calificaion: \"))\n",
        "\n",
        "PROM = (CAL1+CAL2+CAL3+CAL4+CAL5)/5\n",
        "print(MAT, PROM)\n"
      ],
      "execution_count": 16,
      "outputs": [
        {
          "output_type": "stream",
          "text": [
            "Matricula:16500\n",
            "dame la calificaion: 8\n",
            "dame la calificaion: 8.5\n",
            "dame la calificaion: 9\n",
            "dame la calificaion: 7\n",
            "dame la calificaion: 6\n",
            "16500 7.7\n"
          ],
          "name": "stdout"
        }
      ]
    },
    {
      "cell_type": "code",
      "metadata": {
        "colab": {
          "base_uri": "https://localhost:8080/",
          "height": 135
        },
        "id": "kaG0wcfzx_KQ",
        "outputId": "00aa7106-32f8-4e48-ee75-b919ad7fa000"
      },
      "source": [
        "#ejemplo1.9\n",
        "NUM=0\n",
        "CUA=0\n",
        "CUB=0\n",
        "\n",
        "NUM= int (input(\"Dame el número que quieres conocer\")\n",
        "CUA= NUM ** 2\n",
        "CUB= NUM ** 3\n",
        "print (\"El cuadrado es: \", CUA, \"y\", \"el cubo es: \", CUB)\n"
      ],
      "execution_count": 1,
      "outputs": [
        {
          "output_type": "error",
          "ename": "SyntaxError",
          "evalue": "ignored",
          "traceback": [
            "\u001b[0;36m  File \u001b[0;32m\"<ipython-input-1-d8d87bbecbb9>\"\u001b[0;36m, line \u001b[0;32m7\u001b[0m\n\u001b[0;31m    CUA= NUM ** 2\u001b[0m\n\u001b[0m      ^\u001b[0m\n\u001b[0;31mSyntaxError\u001b[0m\u001b[0;31m:\u001b[0m invalid syntax\n"
          ]
        }
      ]
    },
    {
      "cell_type": "code",
      "metadata": {
        "colab": {
          "base_uri": "https://localhost:8080/"
        },
        "id": "UJ_YOAWr1TB3",
        "outputId": "d07f5868-c613-4b18-da87-26de0eedf1ec"
      },
      "source": [
        "#ejemplo 1.10\n",
        "base=0\n",
        "altura=0\n",
        "area=0\n",
        "per=0\n",
        "\n",
        "base=float(input(\"Ingresa la base\"))\n",
        "altura=float(input(\"Ingresa la altura\"))\n",
        "area=(base*altura)\n",
        "per=(base+altura)*2\n",
        "\n",
        "print (f\"el área es {area}\")\n",
        "print (f\"el perímetro es {per}\")"
      ],
      "execution_count": 1,
      "outputs": [
        {
          "output_type": "stream",
          "text": [
            "Ingresa la base3\n",
            "Ingresa la altura4\n",
            "el área es 12.0\n",
            "el perímetro es 14.0\n"
          ],
          "name": "stdout"
        }
      ]
    }
  ]
}