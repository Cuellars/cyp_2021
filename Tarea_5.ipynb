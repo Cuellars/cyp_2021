{
  "nbformat": 4,
  "nbformat_minor": 0,
  "metadata": {
    "colab": {
      "name": "Tarea-5.ipynb",
      "provenance": [],
      "authorship_tag": "ABX9TyNCoZ2e5JzqxznIpmV9ZAjW",
      "include_colab_link": true
    },
    "kernelspec": {
      "name": "python3",
      "display_name": "Python 3"
    }
  },
  "cells": [
    {
      "cell_type": "markdown",
      "metadata": {
        "id": "view-in-github",
        "colab_type": "text"
      },
      "source": [
        "<a href=\"https://colab.research.google.com/github/Cuellars/cyp_2021/blob/main/Tarea_5.ipynb\" target=\"_parent\"><img src=\"https://colab.research.google.com/assets/colab-badge.svg\" alt=\"Open In Colab\"/></a>"
      ]
    },
    {
      "cell_type": "code",
      "metadata": {
        "colab": {
          "base_uri": "https://localhost:8080/"
        },
        "id": "VsPAsJf1IPrc",
        "outputId": "f41e6a42-41dc-4486-f3bd-f4d0f4f952f4"
      },
      "source": [
        "#ejemplo 2.4 aumento de un trabajador \n",
        "\n",
        "sue = 0\n",
        "sue = float(input(\"ingrese el sueldo \"))\n",
        "\n",
        "if (sue <= 1000):\n",
        "  suea = ((sue / 100) * 15) + sue\n",
        "  print(f\"el sueldo del trabajor con el aumento es ${suea:.2f}\")\n",
        "else:\n",
        " suea = ((sue / 100) * 12) + sue\n",
        " print(f\"el sueldo del trabajor con el aumento es ${suea:.2f}\")"
      ],
      "execution_count": 1,
      "outputs": [
        {
          "output_type": "stream",
          "text": [
            "ingrese el sueldo 178.8\n",
            "el sueldo del trabajor con el aumento es $205.62\n"
          ],
          "name": "stdout"
        }
      ]
    },
    {
      "cell_type": "code",
      "metadata": {
        "colab": {
          "base_uri": "https://localhost:8080/"
        },
        "id": "GqaGIY64IpZP",
        "outputId": "ff20ef82-c721-4de8-b7ab-44bb44240ea9"
      },
      "source": [
        "\n",
        "#ejemplo 2.8 calculo de aumento segun la categoria\n",
        "\n",
        "cat = int(input(\"ingrese la categoria del trabajador \"))\n",
        "sue = float(input(\"ingrese el sueldo del trabajador \"))\n",
        "\n",
        "if (cat == 1):\n",
        "  suea = ((sue / 100) * 15) + sue\n",
        "  print(f\"el sueldo del trabajor categoria {cat} con el aumento es ${suea:.2f}\")\n",
        "elif (cat == 2):\n",
        "  suea = ((sue / 100) * 10) + sue\n",
        "  print(f\"el sueldo del trabajor categoria {cat} con el aumento es ${suea:.2f}\")\n",
        "elif (cat == 3):\n",
        "  suea = ((sue / 100) * 8) + sue\n",
        "  print(f\"el sueldo del trabajor categoria {cat} con el aumento es ${suea:.2f}\")\n",
        "elif (cat == 4):\n",
        "  suea = ((sue / 100) * 7) + sue\n",
        "  print(f\"el sueldo del trabajor categoria {cat} con el aumento es ${suea:.2f}\")"
      ],
      "execution_count": 2,
      "outputs": [
        {
          "output_type": "stream",
          "text": [
            "ingrese la categoria del trabajador 1\n",
            "ingrese el sueldo del trabajador 6789\n",
            "el sueldo del trabajor categoria 1 con el aumento es $7807.35\n"
          ],
          "name": "stdout"
        }
      ]
    }
  ]
}