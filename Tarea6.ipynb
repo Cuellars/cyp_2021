{
  "nbformat": 4,
  "nbformat_minor": 0,
  "metadata": {
    "colab": {
      "name": "Tarea6.ipynb",
      "provenance": [],
      "authorship_tag": "ABX9TyN+N5pMbSKk0APh3QzU3bXU",
      "include_colab_link": true
    },
    "kernelspec": {
      "name": "python3",
      "display_name": "Python 3"
    }
  },
  "cells": [
    {
      "cell_type": "markdown",
      "metadata": {
        "id": "view-in-github",
        "colab_type": "text"
      },
      "source": [
        "<a href=\"https://colab.research.google.com/github/Cuellars/cyp_2021/blob/main/Tarea6.ipynb\" target=\"_parent\"><img src=\"https://colab.research.google.com/assets/colab-badge.svg\" alt=\"Open In Colab\"/></a>"
      ]
    },
    {
      "cell_type": "code",
      "metadata": {
        "colab": {
          "base_uri": "https://localhost:8080/"
        },
        "id": "Sb_hvmfkBgZp",
        "outputId": "af70902c-6d79-412a-f7a7-31aa2b691ece"
      },
      "source": [
        "#3.3\r\n",
        "dato = int(input(\"Numero final: \"))\r\n",
        "if dato < 1 :\r\n",
        "    print(\"Solo numeros positivos mayores a cero.\")\r\n",
        "else :\r\n",
        "    i = 1\r\n",
        "    flag = True\r\n",
        "    cadenaD = \"\"\r\n",
        "    cadenaF = \"\"\r\n",
        "    while i <= dato :\r\n",
        "        aux = 1/i\r\n",
        "        cadenaD += (\"{0:.2f}\".format(1/i)) if flag else (\"{0:.2f}\".format(-(1/i)))\r\n",
        "        cadenaD += (\", \") if i < dato else \"\"\r\n",
        "        cadenaF += (f\"1/{i}\") if flag else (f\"-1/{i}\")\r\n",
        "        cadenaF += (\", \") if i < dato else \"\"\r\n",
        "        flag = not flag\r\n",
        "        i += 1\r\n",
        "    print(cadenaD)\r\n",
        "    print(cadenaF)"
      ],
      "execution_count": 1,
      "outputs": [
        {
          "output_type": "stream",
          "text": [
            "Numero final: 10\n",
            "1.00, -0.50, 0.33, -0.25, 0.20, -0.17, 0.14, -0.12, 0.11, -0.10\n",
            "1/1, -1/2, 1/3, -1/4, 1/5, -1/6, 1/7, -1/8, 1/9, -1/10\n"
          ],
          "name": "stdout"
        }
      ]
    },
    {
      "cell_type": "code",
      "metadata": {
        "colab": {
          "base_uri": "https://localhost:8080/"
        },
        "id": "PB5xuDNWBnFV",
        "outputId": "7b0c73e7-7c33-46a5-ab27-ddcd9622683c"
      },
      "source": [
        "#3.4 \r\n",
        "\r\n",
        "nom=0\r\n",
        "sue= float (input(\"Ingrese su sueldo \\n $\"))\r\n",
        "while (sue!=-1):\r\n",
        "  if (sue<=1000):\r\n",
        "    nsue=sue*1.15\r\n",
        "    \r\n",
        "  else:\r\n",
        "    nsue=sue*1.12\r\n",
        "\r\n",
        "  print(f\"Su nuevo sueldo es de $\",nsue)  \r\n",
        "  nom=nom+nsue\r\n",
        "  sue= float (input(\"Ingrese su sueldo\\n $\"))\r\n",
        "\r\n",
        "print(\"La nomina empresarial es de $\",nom)"
      ],
      "execution_count": 2,
      "outputs": [
        {
          "output_type": "stream",
          "text": [
            "Ingrese su sueldo \n",
            " $760.32\n",
            "Su nuevo sueldo es de $ 874.3679999999999\n",
            "Ingrese su sueldo\n",
            " $614\n",
            "Su nuevo sueldo es de $ 706.0999999999999\n",
            "Ingrese su sueldo\n",
            " $-1\n",
            "La nomina empresarial es de $ 1580.4679999999998\n"
          ],
          "name": "stdout"
        }
      ]
    },
    {
      "cell_type": "code",
      "metadata": {
        "colab": {
          "base_uri": "https://localhost:8080/"
        },
        "id": "KB0p565QBsZy",
        "outputId": "5563edbe-130c-40d1-95c9-89c5acc1e29d"
      },
      "source": [
        "#3.5\r\n",
        "sumotr=0\r\n",
        "sumpos=0\r\n",
        "cuepos=0\r\n",
        "n= int (input(\"Ingrese la cantidad de números que desea sumar\\n\"))\r\n",
        "i=1\r\n",
        "for i in range (n):\r\n",
        "  num = int (input(f\"Ingrese el número {i+1}° \\n\"))\r\n",
        "  if (num>0):\r\n",
        "    sumpos=sumpos+num\r\n",
        "    cuepos=cuepos+1 \r\n",
        "    \r\n",
        "  else:\r\n",
        "    sumotr=sumotr+num\r\n",
        "   \r\n",
        "  i=i+1\r\n",
        "\r\n",
        "progen=(sumpos+sumotr)/n\r\n",
        "propos=(sumpos/cuepos)\r\n",
        "\r\n",
        "print(\"La cantidad de números positivos que ingreso fue de:\",cuepos)\r\n",
        "print(\"El promedio general de los números es:\",progen)\r\n",
        "print(\"El promedio de los números positivos ingresados fue de\", propos)"
      ],
      "execution_count": 6,
      "outputs": [
        {
          "output_type": "stream",
          "text": [
            "Ingrese la cantidad de números que desea sumar\n",
            "4\n",
            "Ingrese el número 1° \n",
            "129\n",
            "Ingrese el número 2° \n",
            "391\n",
            "Ingrese el número 3° \n",
            "29\n",
            "Ingrese el número 4° \n",
            "129\n",
            "La cantidad de números positivos que ingreso fue de: 4\n",
            "El promedio general de los números es: 169.5\n",
            "El promedio de los números positivos ingresados fue de 169.5\n"
          ],
          "name": "stdout"
        }
      ]
    },
    {
      "cell_type": "code",
      "metadata": {
        "colab": {
          "base_uri": "https://localhost:8080/"
        },
        "id": "Q88pTunCBz_i",
        "outputId": "d5261b92-6c93-432c-ee86-187bbcbb2a37"
      },
      "source": [
        "#3.6 \r\n",
        "may=-100000\r\n",
        "men=100000\r\n",
        "n=int (input(\"Ingrese la cantidad de números a ingresar \\n\"))\r\n",
        "i=1\r\n",
        "for i in range (n):\r\n",
        "  num= int (input(f\"Ingrese el número entero {i+1}° \\n\"))\r\n",
        "  if (num>may):\r\n",
        "    may=num\r\n",
        "  else: \r\n",
        "    if (num<men):\r\n",
        "      men=num\r\n",
        "    else:\r\n",
        "      i=i+1\r\n",
        "\r\n",
        "print(\"El número mayor es:\",may)\r\n",
        "print(\"El número menor es:\", men)"
      ],
      "execution_count": 7,
      "outputs": [
        {
          "output_type": "stream",
          "text": [
            "Ingrese la cantidad de números a ingresar \n",
            "5\n",
            "Ingrese el número entero 1° \n",
            "56\n",
            "Ingrese el número entero 2° \n",
            "34\n",
            "Ingrese el número entero 3° \n",
            "89\n",
            "Ingrese el número entero 4° \n",
            "23\n",
            "Ingrese el número entero 5° \n",
            "5\n",
            "El número mayor es: 89\n",
            "El número menor es: 5\n"
          ],
          "name": "stdout"
        }
      ]
    },
    {
      "cell_type": "code",
      "metadata": {
        "colab": {
          "base_uri": "https://localhost:8080/"
        },
        "id": "vOiw1NZeB4DJ",
        "outputId": "3411cb45-0271-4922-88df-011a8b299abf"
      },
      "source": [
        "#3.7 \r\n",
        "med=0\r\n",
        "chi=0\r\n",
        "gra=0\r\n",
        "n=int (input(\"Ingrese la cantidad de ventas que realizo: \\n\"))\r\n",
        "i=1\r\n",
        "for i in range (n):\r\n",
        "  v =float (input(f\"Ingrese el valor de la venta {i+1}\\n $\"))\r\n",
        "  if (v<=200):\r\n",
        "    chi=chi+1\r\n",
        "  elif (v<400):\r\n",
        "    med=med+1\r\n",
        "  else:\r\n",
        "    gra=gra+1\r\n",
        "  i=i+1\r\n",
        "\r\n",
        "print(\"Usted realizo\",chi,\"ventas chicas\")\r\n",
        "print(\"Usted realizo\",med,\"ventas medianas\")\r\n",
        "print(\"Usted realizo\",gra,\"ventas grandes\")"
      ],
      "execution_count": 8,
      "outputs": [
        {
          "output_type": "stream",
          "text": [
            "Ingrese la cantidad de ventas que realizo: \n",
            "4\n",
            "Ingrese el valor de la venta 1\n",
            " $200\n",
            "Ingrese el valor de la venta 2\n",
            " $100\n",
            "Ingrese el valor de la venta 3\n",
            " $50\n",
            "Ingrese el valor de la venta 4\n",
            " $300\n",
            "Usted realizo 3 ventas chicas\n",
            "Usted realizo 1 ventas medianas\n",
            "Usted realizo 0 ventas grandes\n"
          ],
          "name": "stdout"
        }
      ]
    },
    {
      "cell_type": "code",
      "metadata": {
        "colab": {
          "base_uri": "https://localhost:8080/"
        },
        "id": "eWspmY9ICAC4",
        "outputId": "0b9e5c32-cd20-4c3d-f811-099b896b7a8e"
      },
      "source": [
        "#3.8\r\n",
        "numero = int(input(\"Numero: \"))\r\n",
        "if numero < 1 :\r\n",
        "    print(\"Solo numeros positivos.\")\r\n",
        "else :\r\n",
        "    cadena = f\"{numero}, \"\r\n",
        "    while numero != 1 :\r\n",
        "        numero = (int(numero/2)) if numero%2 == 0 else ((numero * 3) + 1)\r\n",
        "        cadena += (f\"{numero}, \") if numero != 1 else (f\"{numero}\")"
      ],
      "execution_count": 13,
      "outputs": [
        {
          "output_type": "stream",
          "text": [
            "Numero: 25\n"
          ],
          "name": "stdout"
        }
      ]
    },
    {
      "cell_type": "code",
      "metadata": {
        "colab": {
          "base_uri": "https://localhost:8080/"
        },
        "id": "uPB3ILonCFPQ",
        "outputId": "4d8c0585-5213-43b9-8834-2a089164e8d7"
      },
      "source": [
        "#3.9 \r\n",
        "serie=0\r\n",
        "n= int (input(\"Ingrese un número entero\"))\r\n",
        "i=1\r\n",
        "for i in range (n+1):\r\n",
        "  serie=serie+i**i\r\n",
        "  i=i+1\r\n",
        "print(f\"{serie}\")"
      ],
      "execution_count": 15,
      "outputs": [
        {
          "output_type": "stream",
          "text": [
            "Ingrese un número entero6\n",
            "50070\n"
          ],
          "name": "stdout"
        }
      ]
    },
    {
      "cell_type": "code",
      "metadata": {
        "colab": {
          "base_uri": "https://localhost:8080/"
        },
        "id": "hjyAXPLmCIhD",
        "outputId": "64a473e0-a855-41ea-dbe7-6829b229c9ad"
      },
      "source": [
        "#3.10 \r\n",
        "i = 3\r\n",
        "primero = 0\r\n",
        "segundo = 1\r\n",
        "cadena = \"0, 1, \"\r\n",
        "while i <= 180 :\r\n",
        "    proximo = primero + segundo\r\n",
        "    primero = segundo\r\n",
        "    segundo = proximo\r\n",
        "    cadena += (f\"{proximo}, \") if i < 180 else (f\"{proximo}\")\r\n",
        "    i += 1\r\n",
        "print(cadena)"
      ],
      "execution_count": 17,
      "outputs": [
        {
          "output_type": "stream",
          "text": [
            "0, 1, 1, 2, 3, 5, 8, 13, 21, 34, 55, 89, 144, 233, 377, 610, 987, 1597, 2584, 4181, 6765, 10946, 17711, 28657, 46368, 75025, 121393, 196418, 317811, 514229, 832040, 1346269, 2178309, 3524578, 5702887, 9227465, 14930352, 24157817, 39088169, 63245986, 102334155, 165580141, 267914296, 433494437, 701408733, 1134903170, 1836311903, 2971215073, 4807526976, 7778742049, 12586269025, 20365011074, 32951280099, 53316291173, 86267571272, 139583862445, 225851433717, 365435296162, 591286729879, 956722026041, 1548008755920, 2504730781961, 4052739537881, 6557470319842, 10610209857723, 17167680177565, 27777890035288, 44945570212853, 72723460248141, 117669030460994, 190392490709135, 308061521170129, 498454011879264, 806515533049393, 1304969544928657, 2111485077978050, 3416454622906707, 5527939700884757, 8944394323791464, 14472334024676221, 23416728348467685, 37889062373143906, 61305790721611591, 99194853094755497, 160500643816367088, 259695496911122585, 420196140727489673, 679891637638612258, 1100087778366101931, 1779979416004714189, 2880067194370816120, 4660046610375530309, 7540113804746346429, 12200160415121876738, 19740274219868223167, 31940434634990099905, 51680708854858323072, 83621143489848422977, 135301852344706746049, 218922995834555169026, 354224848179261915075, 573147844013817084101, 927372692193078999176, 1500520536206896083277, 2427893228399975082453, 3928413764606871165730, 6356306993006846248183, 10284720757613717413913, 16641027750620563662096, 26925748508234281076009, 43566776258854844738105, 70492524767089125814114, 114059301025943970552219, 184551825793033096366333, 298611126818977066918552, 483162952612010163284885, 781774079430987230203437, 1264937032042997393488322, 2046711111473984623691759, 3311648143516982017180081, 5358359254990966640871840, 8670007398507948658051921, 14028366653498915298923761, 22698374052006863956975682, 36726740705505779255899443, 59425114757512643212875125, 96151855463018422468774568, 155576970220531065681649693, 251728825683549488150424261, 407305795904080553832073954, 659034621587630041982498215, 1066340417491710595814572169, 1725375039079340637797070384, 2791715456571051233611642553, 4517090495650391871408712937, 7308805952221443105020355490, 11825896447871834976429068427, 19134702400093278081449423917, 30960598847965113057878492344, 50095301248058391139327916261, 81055900096023504197206408605, 131151201344081895336534324866, 212207101440105399533740733471, 343358302784187294870275058337, 555565404224292694404015791808, 898923707008479989274290850145, 1454489111232772683678306641953, 2353412818241252672952597492098, 3807901929474025356630904134051, 6161314747715278029583501626149, 9969216677189303386214405760200, 16130531424904581415797907386349, 26099748102093884802012313146549, 42230279526998466217810220532898, 68330027629092351019822533679447, 110560307156090817237632754212345, 178890334785183168257455287891792, 289450641941273985495088042104137, 468340976726457153752543329995929, 757791618667731139247631372100066, 1226132595394188293000174702095995, 1983924214061919432247806074196061, 3210056809456107725247980776292056, 5193981023518027157495786850488117, 8404037832974134882743767626780173, 13598018856492162040239554477268290, 22002056689466296922983322104048463, 35600075545958458963222876581316753, 57602132235424755886206198685365216, 93202207781383214849429075266681969, 150804340016807970735635273952047185, 244006547798191185585064349218729154, 394810887814999156320699623170776339, 638817435613190341905763972389505493, 1033628323428189498226463595560281832, 1672445759041379840132227567949787325, 2706074082469569338358691163510069157, 4378519841510949178490918731459856482, 7084593923980518516849609894969925639, 11463113765491467695340528626429782121\n"
          ],
          "name": "stdout"
        }
      ]
    },
    {
      "cell_type": "code",
      "metadata": {
        "colab": {
          "base_uri": "https://localhost:8080/"
        },
        "id": "FeypVdBHCLDV",
        "outputId": "9aac3bae-0c51-44dd-9c77-474eac209989"
      },
      "source": [
        "#3.11 22\r\n",
        "voto = 1\r\n",
        "totalVotos = 0\r\n",
        "votos_1 = 0\r\n",
        "votos_2 = 0\r\n",
        "votos_3 = 0\r\n",
        "votos_4 = 0\r\n",
        "while voto > 0 and voto < 5 :\r\n",
        "    voto = int(input(\"Voto: \"))\r\n",
        "    totalVotos = (totalVotos + 1) if voto > 0 and voto < 5 else totalVotos\r\n",
        "    if voto == 1 :\r\n",
        "        votos_1 += 1\r\n",
        "    elif voto == 2 :\r\n",
        "        votos_2 += 1\r\n",
        "    elif voto == 3 :\r\n",
        "        votos_3 += 1\r\n",
        "    elif voto == 4 :\r\n",
        "        votos_4 += 1\r\n",
        "    else :\r\n",
        "        break\r\n",
        "print(f\"Fueron registrados {totalVotos} votos.\")\r\n",
        "print(f\"Candidato 1: {votos_1} votos obtenidos para un {(votos_1/totalVotos) * 100}% de los votos\")\r\n",
        "print(f\"Candidato 2: {votos_2} votos obtenidos para un {(votos_2/totalVotos) * 100}% de los votos\")\r\n",
        "print(f\"Candidato 3: {votos_3} votos obtenidos para un {(votos_3/totalVotos) * 100}% de los votos\")\r\n",
        "print(f\"Candidato 4: {votos_4} votos obtenidos para un {(votos_4/totalVotos) * 100}% de los votos\")"
      ],
      "execution_count": 22,
      "outputs": [
        {
          "output_type": "stream",
          "text": [
            "Voto: 1\n",
            "Voto: 3\n",
            "Voto: 1\n",
            "Voto: 4\n",
            "Voto: 2\n",
            "Voto: 2\n",
            "Voto: 1\n",
            "Voto: 4\n",
            "Voto: 1\n",
            "Voto: 1\n",
            "Voto: 1\n",
            "Voto: 2\n",
            "Voto: 1\n",
            "Voto: 3\n",
            "Voto: 1\n",
            "Voto: 4\n",
            "Voto: 0\n",
            "Fueron registrados 16 votos.\n",
            "Candidato 1: 8 votos obtenidos para un 50.0% de los votos\n",
            "Candidato 2: 3 votos obtenidos para un 18.75% de los votos\n",
            "Candidato 3: 2 votos obtenidos para un 12.5% de los votos\n",
            "Candidato 4: 3 votos obtenidos para un 18.75% de los votos\n"
          ],
          "name": "stdout"
        }
      ]
    },
    {
      "cell_type": "code",
      "metadata": {
        "colab": {
          "base_uri": "https://localhost:8080/"
        },
        "id": "m0Dv_mypCOZM",
        "outputId": "e788739a-8de9-40c3-949e-f21edc39371e"
      },
      "source": [
        "#3.12 \r\n",
        "masue=0\r\n",
        "n= int (input(\"Ingrese la cantidad de empleados\"))\r\n",
        "i=1\r\n",
        "for i in range (n):\r\n",
        "  print(f\"EMPLEADO NUMERO {i+1}\")\r\n",
        "  numemp= int (input(\"Ingrese su número de trabajador\\n\"))\r\n",
        "  sue= float (input(\"Ingrese su sueldo \\n$\"))\r\n",
        "  if (sue>masue):\r\n",
        "    masue= sue\r\n",
        "    manum=numemp\r\n",
        "  i=i+1\r\n",
        "\r\n",
        "print(\"El empleado con mayor sueldo es \",manum)\r\n",
        "print(\"Con un sueldo de $\",masue)"
      ],
      "execution_count": 25,
      "outputs": [
        {
          "output_type": "stream",
          "text": [
            "Ingrese la cantidad de empleados3\n",
            "EMPLEADO NUMERO 1\n",
            "Ingrese su número de trabajador\n",
            "1255\n",
            "Ingrese su sueldo \n",
            "$2580\n",
            "EMPLEADO NUMERO 2\n",
            "Ingrese su número de trabajador\n",
            "1260\n",
            "Ingrese su sueldo \n",
            "$1400\n",
            "EMPLEADO NUMERO 3\n",
            "Ingrese su número de trabajador\n",
            "1325\n",
            "Ingrese su sueldo \n",
            "$3600\n",
            "El empleado con mayor sueldo es  1325\n",
            "Con un sueldo de $ 3600.0\n"
          ],
          "name": "stdout"
        }
      ]
    },
    {
      "cell_type": "code",
      "metadata": {
        "colab": {
          "base_uri": "https://localhost:8080/"
        },
        "id": "HNNLLXkWCR5O",
        "outputId": "c15a3cc4-219b-480e-a43f-d2a6aedf9caf"
      },
      "source": [
        "#3.13\r\n",
        "i = 0\r\n",
        "mes = [\"Enero\", \"Febrero\", \"Marzo\", \"Abril\", \"Mayo\", \"Junio\", \"Julio\", \"Agosto\", \"Septiembre\", \"Octubre\", \"Noviembre\", \"Diciembre\"]\r\n",
        "menorRS = 1000\r\n",
        "menorMS = 0\r\n",
        "totalRN = 0\r\n",
        "totalRC = 0\r\n",
        "totalRS = 0\r\n",
        "while i < 12 :\r\n",
        "    print(f\"Registros {mes[i]}\")\r\n",
        "    registroN = float(input(\"Region Norte: \"))\r\n",
        "    registroC = float(input(\"Region Centro: \"))\r\n",
        "    registroS = float(input(\"Region Sur: \"))\r\n",
        "    if menorRS > registroS :\r\n",
        "        menorRS = registroS\r\n",
        "        menorMS = i\r\n",
        "    totalRN = (totalRN + registroN) if registroN > 0 else totalRN\r\n",
        "    totalRC = (totalRC + registroC) if registroC > 0 else totalRC\r\n",
        "    totalRS = (totalRS + registroS) if registroS > 0 else totalRS\r\n",
        "    i += 1\r\n",
        "if totalRN == totalRC and totalRN == totalRS :\r\n",
        "    print(\"Todas las regiones tuvieron un promedio de lluvia anual igual ({0:.3f}).\".format(totalRN/12))\r\n",
        "    print(\"El promedio de lluvia anual de la region central es : {0:.3f}\".format(totalRC/12))\r\n",
        "elif totalRN > totalRC and totalRN > totalRS :\r\n",
        "    print(\"La region norte tuvo un mayor promedio de lluvia anual ({0:.3f})\".format(totalRN/12))\r\n",
        "    print(\"El promedio de lluvia anual de la region central es : {0:.3f}\".format(totalRC/12))\r\n",
        "elif totalRC > totalRS :\r\n",
        "    print(\"La region centro tuvo un mayor promedio de lluvia anual ({0:.3f})\".format(totalRC/12))\r\n",
        "else :\r\n",
        "    print(\"La region sur tuvo un mayor promedio de lluvia anual ({0:.3f})\".format(totalRS/12))\r\n",
        "    print(\"El promedio de lluvia anual de la region central es : {0:.3f}\".format(totalRC/12))\r\n",
        "print(f\"{mes[menorMS]} fue el mes con menor registro de lluvia ({menorRS})\")"
      ],
      "execution_count": 28,
      "outputs": [
        {
          "output_type": "stream",
          "text": [
            "Registros Enero\n",
            "Region Norte: 80\n",
            "Region Centro: 70\n",
            "Region Sur: 170\n",
            "Registros Febrero\n",
            "Region Norte: 80\n",
            "Region Centro: 70\n",
            "Region Sur: 170\n",
            "Registros Marzo\n",
            "Region Norte: 80\n",
            "Region Centro: 70\n",
            "Region Sur: 170\n",
            "Registros Abril\n",
            "Region Norte: 80\n",
            "Region Centro: 70\n",
            "Region Sur: 170\n",
            "Registros Mayo\n",
            "Region Norte: 80\n",
            "Region Centro: 70\n",
            "Region Sur: 170\n",
            "Registros Junio\n",
            "Region Norte: 80\n",
            "Region Centro: 70\n",
            "Region Sur: 170\n",
            "Registros Julio\n",
            "Region Norte: 80\n",
            "Region Centro: 70\n",
            "Region Sur: 170\n",
            "Registros Agosto\n",
            "Region Norte: 80\n",
            "Region Centro: 70\n",
            "Region Sur: 170\n",
            "Registros Septiembre\n",
            "Region Norte: 80\n",
            "Region Centro: 70\n",
            "Region Sur: 170\n",
            "Registros Octubre\n",
            "Region Norte: 80\n",
            "Region Centro: 70\n",
            "Region Sur: 170\n",
            "Registros Noviembre\n",
            "Region Norte: 80\n",
            "Region Centro: 70\n",
            "Region Sur: 170\n",
            "Registros Diciembre\n",
            "Region Norte: 80\n",
            "Region Centro: 70\n",
            "Region Sur: 170\n",
            "La region sur tuvo un mayor promedio de lluvia anual (170.000)\n",
            "El promedio de lluvia anual de la region central es : 70.000\n",
            "Enero fue el mes con menor registro de lluvia (170.0)\n"
          ],
          "name": "stdout"
        }
      ]
    },
    {
      "cell_type": "code",
      "metadata": {
        "colab": {
          "base_uri": "https://localhost:8080/"
        },
        "id": "xp6vGTXQCV4R",
        "outputId": "1998fa62-9df8-4bcd-db96-bf3c0a4bf621"
      },
      "source": [
        "#3.14 \r\n",
        "ap1=0\r\n",
        "ap2=0\r\n",
        "ap3=0\r\n",
        "ap4=0\r\n",
        "ap5=0\r\n",
        "recau=0\r\n",
        "p1=float (input(\"Ingrese el precio de la localidad #1\\n $\"))\r\n",
        "p2=float (input(\"Ingrese el precio de la localidad #2\\n $\"))\r\n",
        "p3=float (input(\"Ingrese el precio de la localidad #3\\n $\"))\r\n",
        "p4=float (input(\"Ingrese el precio de la localidad #4\\n $\"))\r\n",
        "p5=float (input(\"Ingrese el precio de la localidad #5\\n $\"))\r\n",
        "clave=int (input(\"Indique el número de la localidad que desea comprar\\n\"))\r\n",
        "cant= int (input(\"¿Cuantos desea comprar?\\n\"))\r\n",
        "while ((clave!=-1) and (cant!=-1)):\r\n",
        "  if (clave<1) and (clave>4):\r\n",
        "    print(\"No existe esa clave\")\r\n",
        "  elif (clave==1):\r\n",
        "    pre=p1*cant\r\n",
        "    ap1=ap1+cant\r\n",
        "  elif (clave==2):\r\n",
        "    pre=p2*cant\r\n",
        "    ap2=ap2+cant\r\n",
        "  elif (clave==3):\r\n",
        "    pre=p3*cant\r\n",
        "    ap3=ap3+cant\r\n",
        "  elif (clave==4):\r\n",
        "    pre=p4*cant\r\n",
        "    ap4=ap4+cant \r\n",
        "  elif (clave==5):\r\n",
        "    pre=p5*cant\r\n",
        "    ap5=ap5+cant \r\n",
        "\r\n",
        "  print(\"CLAVE DE LOCALIDAD:\",clave,\"\\nCANTIDAD:\",cant,\"\\nPRECIO: $\",pre)  \r\n",
        "  recau=recau+pre\r\n",
        "  clave=int (input(\"Indique el número de la localidad que desea comprar\\n\"))\r\n",
        "  cant= int (input(\"¿Cuantos desea comprar?\\n\"))\r\n",
        "\r\n",
        "print(\"Usted compro\",ap1, \"boletos tipo 1\")\r\n",
        "print(\"Usted compro\",ap2, \"boletos tipo 2\")\r\n",
        "print(\"Usted compro\",ap3, \"boletos tipo 3\")\r\n",
        "print(\"Usted compro\",ap4, \"boletos tipo 4\")\r\n",
        "print(\"Usted compro\",ap5, \"boletos tipo 5\")\r\n",
        "print(\"Recaudacion del estado: $\",recau)"
      ],
      "execution_count": 31,
      "outputs": [
        {
          "output_type": "stream",
          "text": [
            "Ingrese el precio de la localidad #1\n",
            " $7.25\n",
            "Ingrese el precio de la localidad #2\n",
            " $15.80\n",
            "Ingrese el precio de la localidad #3\n",
            " $25.00\n",
            "Ingrese el precio de la localidad #4\n",
            " $50.00\n",
            "Ingrese el precio de la localidad #5\n",
            " $75.00\n",
            "Indique el número de la localidad que desea comprar\n",
            "2\n",
            "¿Cuantos desea comprar?\n",
            "5\n",
            "CLAVE DE LOCALIDAD: 2 \n",
            "CANTIDAD: 5 \n",
            "PRECIO: $ 79.0\n",
            "Indique el número de la localidad que desea comprar\n",
            "3\n",
            "¿Cuantos desea comprar?\n",
            "8\n",
            "CLAVE DE LOCALIDAD: 3 \n",
            "CANTIDAD: 8 \n",
            "PRECIO: $ 200.0\n",
            "Indique el número de la localidad que desea comprar\n",
            "2\n",
            "¿Cuantos desea comprar?\n",
            "4\n",
            "CLAVE DE LOCALIDAD: 2 \n",
            "CANTIDAD: 4 \n",
            "PRECIO: $ 63.2\n",
            "Indique el número de la localidad que desea comprar\n",
            "1\n",
            "¿Cuantos desea comprar?\n",
            "6\n",
            "CLAVE DE LOCALIDAD: 1 \n",
            "CANTIDAD: 6 \n",
            "PRECIO: $ 43.5\n",
            "Indique el número de la localidad que desea comprar\n",
            "4\n",
            "¿Cuantos desea comprar?\n",
            "5\n",
            "CLAVE DE LOCALIDAD: 4 \n",
            "CANTIDAD: 5 \n",
            "PRECIO: $ 250.0\n",
            "Indique el número de la localidad que desea comprar\n",
            "1\n",
            "¿Cuantos desea comprar?\n",
            "12\n",
            "CLAVE DE LOCALIDAD: 1 \n",
            "CANTIDAD: 12 \n",
            "PRECIO: $ 87.0\n",
            "Indique el número de la localidad que desea comprar\n",
            "2\n",
            "¿Cuantos desea comprar?\n",
            "8\n",
            "CLAVE DE LOCALIDAD: 2 \n",
            "CANTIDAD: 8 \n",
            "PRECIO: $ 126.4\n",
            "Indique el número de la localidad que desea comprar\n",
            "5\n",
            "¿Cuantos desea comprar?\n",
            "3\n",
            "CLAVE DE LOCALIDAD: 5 \n",
            "CANTIDAD: 3 \n",
            "PRECIO: $ 225.0\n",
            "Indique el número de la localidad que desea comprar\n",
            "2\n",
            "¿Cuantos desea comprar?\n",
            "7\n",
            "CLAVE DE LOCALIDAD: 2 \n",
            "CANTIDAD: 7 \n",
            "PRECIO: $ 110.60000000000001\n",
            "Indique el número de la localidad que desea comprar\n",
            "3\n",
            "¿Cuantos desea comprar?\n",
            "14\n",
            "CLAVE DE LOCALIDAD: 3 \n",
            "CANTIDAD: 14 \n",
            "PRECIO: $ 350.0\n",
            "Indique el número de la localidad que desea comprar\n",
            "4\n",
            "¿Cuantos desea comprar?\n",
            "1\n",
            "CLAVE DE LOCALIDAD: 4 \n",
            "CANTIDAD: 1 \n",
            "PRECIO: $ 50.0\n",
            "Indique el número de la localidad que desea comprar\n",
            "2\n",
            "¿Cuantos desea comprar?\n",
            "11\n",
            "CLAVE DE LOCALIDAD: 2 \n",
            "CANTIDAD: 11 \n",
            "PRECIO: $ 173.8\n",
            "Indique el número de la localidad que desea comprar\n",
            "4\n",
            "¿Cuantos desea comprar?\n",
            "9\n",
            "CLAVE DE LOCALIDAD: 4 \n",
            "CANTIDAD: 9 \n",
            "PRECIO: $ 450.0\n",
            "Indique el número de la localidad que desea comprar\n",
            "5\n",
            "¿Cuantos desea comprar?\n",
            "7\n",
            "CLAVE DE LOCALIDAD: 5 \n",
            "CANTIDAD: 7 \n",
            "PRECIO: $ 525.0\n",
            "Indique el número de la localidad que desea comprar\n",
            "1\n",
            "¿Cuantos desea comprar?\n",
            "25\n",
            "CLAVE DE LOCALIDAD: 1 \n",
            "CANTIDAD: 25 \n",
            "PRECIO: $ 181.25\n",
            "Indique el número de la localidad que desea comprar\n",
            "1\n",
            "¿Cuantos desea comprar?\n",
            "18\n",
            "CLAVE DE LOCALIDAD: 1 \n",
            "CANTIDAD: 18 \n",
            "PRECIO: $ 130.5\n",
            "Indique el número de la localidad que desea comprar\n",
            "3\n",
            "¿Cuantos desea comprar?\n",
            "4\n",
            "CLAVE DE LOCALIDAD: 3 \n",
            "CANTIDAD: 4 \n",
            "PRECIO: $ 100.0\n",
            "Indique el número de la localidad que desea comprar\n",
            "-1\n",
            "¿Cuantos desea comprar?\n",
            "-1\n",
            "Usted compro 61 boletos tipo 1\n",
            "Usted compro 35 boletos tipo 2\n",
            "Usted compro 26 boletos tipo 3\n",
            "Usted compro 15 boletos tipo 4\n",
            "Usted compro 10 boletos tipo 5\n",
            "Recaudacion del estado: $ 3145.25\n"
          ],
          "name": "stdout"
        }
      ]
    },
    {
      "cell_type": "code",
      "metadata": {
        "colab": {
          "base_uri": "https://localhost:8080/"
        },
        "id": "EXC5sZ-wCcKs",
        "outputId": "5a559074-3296-4520-942a-bb2de026a9ac"
      },
      "source": [
        "#3.15\r\n",
        "contL = 0\r\n",
        "costeL = 0\r\n",
        "costeN = 0\r\n",
        "costeI = 0\r\n",
        "tipo = 1\r\n",
        "print(\"1. Internacional \\n2. Nacional \\n3. Local\")\r\n",
        "while tipo == 1 or tipo == 2 or tipo == 3 :\r\n",
        "    tipo = int(input(\"Tipo de llamada (Ingresa el numero): \"))\r\n",
        "    minutos = 0\r\n",
        "    if tipo == 3 :\r\n",
        "        contL += 1\r\n",
        "    elif tipo == 2 :\r\n",
        "        minutos = int(input(\"Minutos usados: \"))\r\n",
        "        coste = (1.2 * minutos) if minutos > 0 and minutos < 4 else ((1.2 * 3) + (0.48 * (minutos - 3)))\r\n",
        "        costeN += coste\r\n",
        "    elif tipo == 1 :\r\n",
        "        minutos = int(input(\"Minutos usados: \"))\r\n",
        "        coste = (7.59 * minutos) if minutos > 0 and minutos < 4 else ((7.59 * 3) + (3.03 * (minutos - 3)))\r\n",
        "        costeI += coste\r\n",
        "    else :\r\n",
        "        break\r\n",
        "costeL = ((contL - 50) * 0.6) if contL > 50 else costeL\r\n",
        "print(\"Coste total llamada internacional: ${0:.2f}\".format(costeI))\r\n",
        "print(\"Coste total llamada nacional: ${0:.2f}\".format(costeN))\r\n",
        "print(\"Coste total llamada local: ${0:.2f}\".format(costeL))\r\n",
        "print(f\"Total: {costeI + costeN + costeL}\")"
      ],
      "execution_count": 34,
      "outputs": [
        {
          "output_type": "stream",
          "text": [
            "1. Internacional \n",
            "2. Nacional \n",
            "3. Local\n",
            "Tipo de llamada (Ingresa el numero): 1\n",
            "Minutos usados: 7\n",
            "Tipo de llamada (Ingresa el numero): 2\n",
            "Minutos usados: 6\n",
            "Tipo de llamada (Ingresa el numero): 3\n",
            "Tipo de llamada (Ingresa el numero): 8\n",
            "Coste total llamada internacional: $34.89\n",
            "Coste total llamada nacional: $5.04\n",
            "Coste total llamada local: $0.00\n",
            "Total: 39.93\n"
          ],
          "name": "stdout"
        }
      ]
    },
    {
      "cell_type": "code",
      "metadata": {
        "id": "-LD726ZiC8nR"
      },
      "source": [
        ""
      ],
      "execution_count": null,
      "outputs": []
    }
  ]
}