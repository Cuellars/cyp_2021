{
  "nbformat": 4,
  "nbformat_minor": 0,
  "metadata": {
    "colab": {
      "name": "14Enero-CyP.ipynb",
      "provenance": [],
      "authorship_tag": "ABX9TyPDGSHQ1aURxUH9Ld9OCmyU",
      "include_colab_link": true
    },
    "kernelspec": {
      "name": "python3",
      "display_name": "Python 3"
    }
  },
  "cells": [
    {
      "cell_type": "markdown",
      "metadata": {
        "id": "view-in-github",
        "colab_type": "text"
      },
      "source": [
        "<a href=\"https://colab.research.google.com/github/Cuellars/cyp_2021/blob/main/14Enero_CyP.ipynb\" target=\"_parent\"><img src=\"https://colab.research.google.com/assets/colab-badge.svg\" alt=\"Open In Colab\"/></a>"
      ]
    },
    {
      "cell_type": "code",
      "metadata": {
        "id": "2fy8wGS15iMw"
      },
      "source": [
        ""
      ],
      "execution_count": null,
      "outputs": []
    },
    {
      "cell_type": "markdown",
      "metadata": {
        "id": "z0KNuseq5jqK"
      },
      "source": [
        "# Pantallas reservadas de Phyton3\r\n",
        "1. False\r\n",
        "1. None\r\n",
        "1. True\r\n",
        "1. and\r\n",
        "1. as\r\n",
        "1. assert\r\n",
        "1. break\r\n",
        "1. class\r\n",
        "1. continue\r\n",
        "1. def\r\n",
        "1. del\r\n",
        "1. elif\r\n",
        "1. else\r\n",
        "1. except\r\n",
        "1. finally\r\n",
        "1. for\r\n",
        "1. from\r\n",
        "1. global\r\n",
        "1. if\r\n",
        "1. import\r\n",
        "1. in\r\n",
        "1. is\r\n",
        "1. lambda\r\n",
        "1. nonlocal\r\n",
        "1. not\r\n",
        "1. or\r\n",
        "1. pass\r\n",
        "1. raise\r\n",
        "1. return\r\n",
        "1. try\r\n",
        "1. while\r\n",
        "1. with\r\n",
        "1. yield\r\n"
      ]
    },
    {
      "cell_type": "code",
      "metadata": {
        "colab": {
          "base_uri": "https://localhost:8080/"
        },
        "id": "eAHhCFVa5pvv",
        "outputId": "9b65a69e-9aae-4e52-fbdb-f0468bbf8a00"
      },
      "source": [
        "import keyword\r\n",
        "pr = keyword.kwlist\r\n",
        "print( len(pr))\r\n",
        "for palabra in pr:\r\n",
        "  print(\"1.\",palabra)"
      ],
      "execution_count": 3,
      "outputs": [
        {
          "output_type": "stream",
          "text": [
            "33\n",
            "1. False\n",
            "1. None\n",
            "1. True\n",
            "1. and\n",
            "1. as\n",
            "1. assert\n",
            "1. break\n",
            "1. class\n",
            "1. continue\n",
            "1. def\n",
            "1. del\n",
            "1. elif\n",
            "1. else\n",
            "1. except\n",
            "1. finally\n",
            "1. for\n",
            "1. from\n",
            "1. global\n",
            "1. if\n",
            "1. import\n",
            "1. in\n",
            "1. is\n",
            "1. lambda\n",
            "1. nonlocal\n",
            "1. not\n",
            "1. or\n",
            "1. pass\n",
            "1. raise\n",
            "1. return\n",
            "1. try\n",
            "1. while\n",
            "1. with\n",
            "1. yield\n"
          ],
          "name": "stdout"
        }
      ]
    },
    {
      "cell_type": "markdown",
      "metadata": {
        "id": "i_BCjsYF62B7"
      },
      "source": [
        "## Variable\r\n",
        "Es un espacio de memoria de la computadora para almacenar valores que cambian a lo largo de la ejecucion del programa. Este espacio de memoria esta referenciado por un identificador, el cual tiene ciertas reglas de nombrado.\r\n",
        "- No puede iniciar con numero\r\n",
        "- No debe ser igual a alguna de las palabras reservadas\r\n",
        "- Pued iniciar con \"_\"\r\n",
        "- Evitar nombres de variables largos \r\n",
        "- Evitar muy cortos, ejemplo x, y, i.\r\n",
        "- Usar notacion snake_case"
      ]
    },
    {
      "cell_type": "code",
      "metadata": {
        "colab": {
          "base_uri": "https://localhost:8080/",
          "height": 52
        },
        "id": "WvVukywF7t2s",
        "outputId": "779e42fe-991c-414f-b7fc-3a1c8b7fd0e4"
      },
      "source": [
        "_2edad = 12\r\n",
        "print(_2edad)\r\n",
        "\"\"\"\r\n",
        "no se puede usar una palabra reseervada como identificador de variable:\r\n",
        "\r\n",
        "for = 12\r\n",
        "print(for)\r\n",
        "\r\n",
        "\"\"\"\r\n"
      ],
      "execution_count": 8,
      "outputs": [
        {
          "output_type": "stream",
          "text": [
            "12\n"
          ],
          "name": "stdout"
        },
        {
          "output_type": "execute_result",
          "data": {
            "application/vnd.google.colaboratory.intrinsic+json": {
              "type": "string"
            },
            "text/plain": [
              "'\\nno se puede usar una palabra reseervada como identificador de variable:\\n\\nfor = 12\\nprint(for)\\n\\n'"
            ]
          },
          "metadata": {
            "tags": []
          },
          "execution_count": 8
        }
      ]
    },
    {
      "cell_type": "code",
      "metadata": {
        "id": "E1ZV_rv18lPK"
      },
      "source": [
        "\"\"\" \r\n",
        "la notacion snake case consta de formar el identificador de vairbale separando las palabras del mismo con un guion bajo.\r\n",
        "Se recomiendda de los identificadores se escriban en minusculas para las variables y en mayusucla para las constantes\r\n",
        "Es decir si tenemos una variable para los dias de la semana, se escribiria a\r\n",
        "\r\n",
        "dias_de_la_demana =7\r\n",
        "dias_mes = 31\r\n",
        "limite_maximo = 100\r\n",
        "\"\"\"\r\n",
        "_2 edad\r\n",
        "dias_de_la_demana = 7\r\n",
        "print(dias_de_la_demana)\r\n",
        "\r\n",
        "diasdelasemna = 7\r\n",
        "print(diasdelasemna)\r\n",
        "\r\n",
        "#lower camel case\r\n",
        "diasDeLaSemana =7e\r\n",
        "\r\n",
        "#"
      ],
      "execution_count": null,
      "outputs": []
    },
    {
      "cell_type": "markdown",
      "metadata": {
        "id": "Bx31lWlC-GdU"
      },
      "source": [
        "# Tipos de datos\r\n",
        "- Numericos\r\n",
        " - int 4 bytes (1, 2, 2345, etc.)\r\n",
        " - float 4 bytes (1.14, 3.1416, 1.0)\r\n",
        " - long 8 bytes (1, 2, 2344, etc)\r\n",
        " - complex 3+2j (raices complejas)\r\n",
        "\r\n",
        "- Boolean: True o False\r\n",
        "- String cadenas de caracteres (\"cad\", 'cad', \"\"\"cad\"\"\")\r\n",
        "- listas ([1,2,3,4] , [a,b,1,2])  \r\n",
        "- conjuntos\r\n",
        "- diccionarios ( {\"nombre\":\"Diego\"})"
      ]
    },
    {
      "cell_type": "markdown",
      "metadata": {
        "id": "CKXWYsvTEFJN"
      },
      "source": [
        "# Tipo de dato Sttring\r\n",
        "\r\n",
        "Este tipo de dato permite almacenar cadenas de caracteristicas, como por ejemplo:\r\n",
        "```\r\n",
        "nomnre = 'Ely'\r\n",
        "lugar_nacimiento= \"Mexico D.F, Tacuba\"\r\n",
        "frase_favorita = \"\"\"\r\n",
        "El conocimiento \r\n",
        "me persigue,\r\n",
        "pero...\r\n",
        "yo soy mas rapido!!!\r\n",
        "\"\"\"\r\n",
        "````"
      ]
    },
    {
      "cell_type": "code",
      "metadata": {
        "colab": {
          "base_uri": "https://localhost:8080/"
        },
        "id": "hIOixEnbF3aq",
        "outputId": "f7398399-0491-4e82-ce27-ed855a013170"
      },
      "source": [
        "nomnre = 'Cuellar'\r\n",
        "lugar_nacimiento= \"Heroes 1ra. Seccion T\"\r\n",
        "frase_favorita = \"\"\"\r\n",
        "Como preparas el cereal?\r\n",
        "\"\"\"\r\n",
        "print(nombre)\r\n",
        "print(lugar_nacimiento)\r\n",
        "print(frase_favorita)"
      ],
      "execution_count": 16,
      "outputs": [
        {
          "output_type": "stream",
          "text": [
            "Cuellar\n",
            "Heroes 1ra. Seccion T\n",
            "\n",
            "Como preparas el cereal?\n",
            "\n"
          ],
          "name": "stdout"
        }
      ]
    },
    {
      "cell_type": "markdown",
      "metadata": {
        "id": "gkTcZSijF8RW"
      },
      "source": [
        "# String como arreglo\r\n",
        "un String en phyton  es almacneado como el tipo de dato (estructura de datos) arreglo.\r\n",
        "por ejemplo la declaracion:\r\n",
        "```\r\n",
        "nombre = 'Cuellar'\r\n",
        "```\r\n",
        "el elemento 'J? es almacenado de la posicion 0. La 'e' en la 1 y asi sucesivamente.\r\n",
        "### Selector\r\n",
        "la notacion para seleccionar un elemento del arreglo es:\r\n",
        "```\r\n",
        "[ 1 ]\r\n",
        "```\r\n",
        "Donde el valor inerno debe ser un valor entero.\r\n"
      ]
    },
    {
      "cell_type": "code",
      "metadata": {
        "colab": {
          "base_uri": "https://localhost:8080/"
        },
        "id": "LFSRPxrbHAYg",
        "outputId": "5037a2f5-6a31-4c22-b628-1e81f9132126"
      },
      "source": [
        "nombre = 'Cuellar'\r\n",
        "print(len(nombre))\r\n",
        "print(nombre)\r\n",
        "print( nombre[0])\r\n",
        "print( nombre[3])\r\n"
      ],
      "execution_count": 10,
      "outputs": [
        {
          "output_type": "stream",
          "text": [
            "7\n",
            "Cuellar\n",
            "C\n",
            "l\n"
          ],
          "name": "stdout"
        }
      ]
    },
    {
      "cell_type": "markdown",
      "metadata": {
        "id": "H4Yz29k1Ht2t"
      },
      "source": [
        "# Iterar sobre un String\r\n",
        "se puede iterar sobre un String con un for de forma:\r\n",
        "```\r\n",
        "for letra in range ( len(nombre)):\r\n",
        " print(letra)\r\n",
        " ```\r\n",
        " "
      ]
    },
    {
      "cell_type": "code",
      "metadata": {
        "colab": {
          "base_uri": "https://localhost:8080/"
        },
        "id": "r10S63P0IXSp",
        "outputId": "9fcdbc96-b1d8-4d88-8a3b-908459e24829"
      },
      "source": [
        "for indice in range( len(nombre)): #0 , 1, 2, 3, 4\r\n",
        " print(indice, end = \" \")\r\n",
        " print(nombre[indice])"
      ],
      "execution_count": 14,
      "outputs": [
        {
          "output_type": "stream",
          "text": [
            "0 C\n",
            "1 u\n",
            "2 e\n",
            "3 l\n",
            "4 l\n",
            "5 a\n",
            "6 r\n"
          ],
          "name": "stdout"
        }
      ]
    },
    {
      "cell_type": "markdown",
      "metadata": {
        "id": "t-CdFJWGJ-7s"
      },
      "source": [
        "# Funcion range(inicio, stop, incremento)\r\n",
        "\r\n",
        "El inicio es iocional y por defecto tiene el valor 0\r\n",
        "\r\n",
        "El incremento ees opcional y por defecto es 1"
      ]
    },
    {
      "cell_type": "code",
      "metadata": {
        "colab": {
          "base_uri": "https://localhost:8080/"
        },
        "id": "RrO4bTN8J1SD",
        "outputId": "2f7ab022-7585-4988-b149-464bf68595d2"
      },
      "source": [
        "for indice in range(1, len(nombre), 1):\r\n",
        "  print(nombre[indice])\r\n"
      ],
      "execution_count": 17,
      "outputs": [
        {
          "output_type": "stream",
          "text": [
            "u\n",
            "e\n",
            "l\n",
            "l\n",
            "a\n",
            "r\n"
          ],
          "name": "stdout"
        }
      ]
    },
    {
      "cell_type": "code",
      "metadata": {
        "colab": {
          "base_uri": "https://localhost:8080/"
        },
        "id": "pbV_LPq2K0nL",
        "outputId": "41009eeb-5c9a-43ba-b574-43b2cdbfb786"
      },
      "source": [
        "for indice in range(6, -1, -1): #6,5,4,3,2,1,0\r\n",
        "\r\n",
        "  print(nombre[indice])"
      ],
      "execution_count": 19,
      "outputs": [
        {
          "output_type": "stream",
          "text": [
            "r\n",
            "a\n",
            "l\n",
            "l\n",
            "e\n",
            "u\n",
            "C\n"
          ],
          "name": "stdout"
        }
      ]
    },
    {
      "cell_type": "markdown",
      "metadata": {
        "id": "q2VxTlHqL6qu"
      },
      "source": [
        "#String e indexado negactivo\r\n",
        "En phyton 3 se agrega una nueva caracteristica a los arreglos de las cadenas de caracteres, esta conta de la capacidad de indexar de forma negativa.\r\n",
        "\r\n",
        "La llogica es la sig.\r\n",
        "\r\n",
        "El ultimo elemento se le considera como indice (ALTERNATIVO) -11, con lo cual se podria referencial el final de la cadena sin la necesidad de saber la cadrena de la misma \r\n",
        "```\r\n",
        "nombre = 'Cuellar\r\n",
        "\r\n",
        "indice normal  0  1  2  3  4  5  6 \r\n",
        "\r\n",
        "               C  U  E  L  L  A  R\r\n",
        "\r\n",
        "indice alter. -7 -6 -5 -4 -3 -2 -1\r\n",
        "```"
      ]
    },
    {
      "cell_type": "code",
      "metadata": {
        "colab": {
          "base_uri": "https://localhost:8080/"
        },
        "id": "EoLz_qciMi5Q",
        "outputId": "da762014-ce47-4889-ead3-5476073812c6"
      },
      "source": [
        "nombre = \"Cuellar\"\r\n",
        "print(nombre[0])   #indexado normal\r\n",
        "print( nombre[-1]) #indexado alternativo (negativos)\r\n",
        "print(\"\")\r\n",
        "for indice_alter in range(-1, -8, -1):\r\n",
        "  print( nombre[indice_alter])"
      ],
      "execution_count": 28,
      "outputs": [
        {
          "output_type": "stream",
          "text": [
            "C\n",
            "r\n",
            "\n",
            "r\n",
            "a\n",
            "l\n",
            "l\n",
            "e\n",
            "u\n",
            "C\n"
          ],
          "name": "stdout"
        }
      ]
    },
    {
      "cell_type": "markdown",
      "metadata": {
        "id": "3QFbtnkePzH3"
      },
      "source": [
        "# Silicing de cadena de caracteres.\r\n",
        "Esta caracteristia permite sacar selecciones de una cadena con la sig. sintaxis:\r\n",
        "```\r\n",
        "[inicio : stop : incremento]\r\n",
        "```\r\n",
        "donde inicio e incremento son opcionales y tambien soportan indexado alternativo(negativos)"
      ]
    },
    {
      "cell_type": "code",
      "metadata": {
        "colab": {
          "base_uri": "https://localhost:8080/"
        },
        "id": "FLQeqE8eQanm",
        "outputId": "3ed69211-7a40-4d1c-bdb9-9af571b773cd"
      },
      "source": [
        "facultad = \"Facultad de Estudios Superiores Àragon (La mejor)\"\r\n",
        "print(facultad)\r\n",
        "\r\n",
        "for indice in range(12, 20, 1):\r\n",
        "  print(facultad[indice], end=\"\")\r\n",
        "  #hacer esto mismo con la caracteritica Slicing se logra asi:\r\n",
        "print(\"\\nCon Slicing\")\r\n",
        "print(facultad[12:20:1])\r\n",
        "\r\n",
        "#la palabra 'de' con Slicing\r\n",
        "print(facultad[9:11:1])\r\n",
        "\r\n",
        "#la frase '(Lamejor)' con incexado alternativo y slicing"
      ],
      "execution_count": 34,
      "outputs": [
        {
          "output_type": "stream",
          "text": [
            "Facultad de Estudios Superiores Àragon (La mejor)\n",
            "Estudios\n",
            "Con Slicing\n",
            "Estudios\n",
            "de\n"
          ],
          "name": "stdout"
        }
      ]
    }
  ]
}